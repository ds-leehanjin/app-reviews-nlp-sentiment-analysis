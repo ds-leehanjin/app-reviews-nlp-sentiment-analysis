{
 "cells": [
  {
   "cell_type": "markdown",
   "metadata": {},
   "source": [
    "## OVERVIEW OF OSEMiN"
   ]
  },
  {
   "cell_type": "markdown",
   "metadata": {},
   "source": [
    "<img src='https://raw.githubusercontent.com/jirvingphd/fsds_100719_cohort_notes/master/images/OSEMN.png' width=800>\n",
    "\n",
    "<center><a href=\"https://www.kdnuggets.com/2018/02/data-science-command-line-book-exploring-data.html\"> \n",
    "    </a></center>\n",
    "\n",
    "\n",
    "> <font size=2em>The Data Science Process we'll be using during this section--OSEMiN (pronounced \"OH-sum\", rhymes with \"possum\").  This is the most straightforward of the Data Science Processes discussed so far.  **Note that during this process, just like the others, the stages often blur together.***  It is completely acceptable (and ***often a best practice!) to float back and forth** between stages as you learn new things about your problem, dataset, requirements, etc.  \n",
    "It's quite common to get to the modeling step and realize that you need to scrub your data a bit more or engineer a different feature and jump back to the \"Scrub\" stage, or go all the way back to the \"Obtain\" stage when you realize your current data isn't sufficient to solve this problem. \n",
    "As with any of these frameworks, *OSEMiN is meant to be treated as guidelines, not law. \n",
    "</font>\n",
    "\n",
    "\n",
    "### OSEMN DETAILS\n",
    "\n",
    "**OBTAIN**\n",
    "\n",
    "- This step involves understanding stakeholder requirements, gathering information on the problem, and finally sourcing data that we think will be necessary for solving this problem. \n",
    "\n",
    "**SCRUB**\n",
    "\n",
    "- During this stage, we'll focus on preprocessing our data.  Important steps such as identifying and removing null values, dealing with outliers, normalizing data, and feature engineering/feature selection are handled around this stage.  The line with this stage really blurs with the _Explore_ stage, as it is common to only realize that certain columns require cleaning or preprocessing as a result of the visualzations and explorations done during Step 3.  \n",
    "\n",
    "- Note that although technically, categorical data should be one-hot encoded during this step, in practice, it's usually done after data exploration.  This is because it is much less time-consuming to visualize and explore a few columns containing categorical data than it is to explore many different dummy columns that have been one-hot encoded. \n",
    "\n",
    "**EXPLORE**\n",
    "\n",
    "- This step focuses on getting to know the dataset you're working with. As mentioned above, this step tends to blend with the _Scrub_ step mentioned above.  During this step, you'll create visualizations to really get a feel for your dataset.  You'll focus on things such as understanding the distribution of different columns, checking for multicollinearity, and other tasks liek that.  If your project is a classification task, you may check the balance of the different classes in your dataset.  If your problem is a regression task, you may check that the dataset meets the assumptions necessary for a regression task.  \n",
    "\n",
    "- At the end of this step, you should have a dataset ready for modeling that you've thoroughly explored and are extremely familiar with.  \n",
    "\n",
    "**MODEL**\n",
    "\n",
    "- This step, as with the last two frameworks, is also pretty self-explanatory. It consists of building and tuning models using all the tools you have in your data science toolbox.  In practice, this often means defining a threshold for success, selecting machine learning algorithms to test on the project, and tuning the ones that show promise to try and increase your results.  As with the other stages, it is both common and accepted to realize something, jump back to a previous stage like _Scrub_ or _Explore_, and make some changes to see how it affects the model.  \n",
    "\n",
    "**iNTERPRET**\n",
    "\n",
    "- During this step, you'll interpret the results of your model(s), and communicate results to stakeholders.  As with the other frameworks, communication is incredibily important! During this stage, you may come to realize that further investigation is needed, or more data.  That's totally fine--figure out what's needed, go get it, and start the process over! If your results are satisfactory to all stakeholders involved, you may also go from this stage right into productionizing your model and automating processes necessary to support it.  \n",
    "\n",
    "\n",
    "\n"
   ]
  },
  {
   "cell_type": "markdown",
   "metadata": {},
   "source": [
    "## PROCESS CHECKLIST\n"
   ]
  },
  {
   "cell_type": "markdown",
   "metadata": {},
   "source": [
    "> Keep in mind that it is normal to jump between the OSEMN phases and some of them will blend together, like SCRUB and EXPLORE."
   ]
  },
  {
   "cell_type": "markdown",
   "metadata": {},
   "source": [
    "1. **[OBTAIN](#OBTAIN)**\n",
    "    - Import data, inspect, check for datatypes to convert and null values\n",
    "    - Display header and info.\n",
    "    - Drop any unneeded columns, if known (`df.drop(['col1','col2'],axis=1,inplace=True`)\n",
    "    <br><br>\n",
    "\n",
    "\n",
    "2. **[SCRUB](#SCRUB)**\n",
    "    - Recast data types, identify outliers, check for multicollinearity, normalize data**\n",
    "    - Check and cast data types\n",
    "        - [ ] Check for #'s that are store as objects (`df.info()`,`df.describe()`)\n",
    "            - when converting to #'s, look for odd values (like many 0's), or strings that can't be converted.\n",
    "            - Decide how to deal weird/null values (`df.unique()`, `df.isna().sum()`)\n",
    "            - `df.fillna(subset=['col_with_nulls'],'fill_value')`, `df.replace()`\n",
    "        - [ ] Check for categorical variables stored as integers.\n",
    "            - May be easier to tell when you make a scatter plotm or `pd.plotting.scatter_matrix()`\n",
    "            \n",
    "    - [ ] Check for missing values  (df.isna().sum())\n",
    "        - Can drop rows or colums\n",
    "        - For missing numeric data with median or bin/convert to categorical\n",
    "        - For missing categorical data: make NaN own category OR replace with most common category\n",
    "    - [ ] Check for multicollinearity\n",
    "        - Use seaborn to make correlation matrix plot \n",
    "        - Good rule of thumb is anything over 0.75 corr is high, remove the variable that has the most correl with the largest # of variables\n",
    "    - [ ] Normalize data (may want to do after some exploring)\n",
    "        - Most popular is Z-scoring (but won't fix skew) \n",
    "        - Can log-transform to fix skewed data\n",
    "    \n",
    "    \n",
    "3. **[EXPLORE](#EXPLORE)**\n",
    "    - [ ] Check distributions, outliers, etc**\n",
    "    - [ ] Check scales, ranges (df.describe())\n",
    "    - [ ] Check histograms to get an idea of distributions (df.hist()) and data transformations to perform.\n",
    "        - Can also do kernel density estimates\n",
    "    - [ ] Use scatter plots to check for linearity and possible categorical variables (`df.plot(\"x\",\"y\")`)\n",
    "        - categoricals will look like vertical lines\n",
    "    - [ ] Use `pd.plotting.scatter_matrix(df)` to visualize possible relationships\n",
    "    - [ ] Check for linearity.\n",
    "   \n",
    "   \n",
    "4. **[MODEL](#MODEL)**\n",
    "\n",
    "    - **Fit an initial model:** \n",
    "        - Run an initial model and get results\n",
    "\n",
    "    - **Holdout validation / Train/test split**\n",
    "        - use sklearn `train_test_split`\n",
    "    \n",
    "    \n",
    "5. **[iNTERPRET](#iNTERPRET)**\n",
    "    - **Assessing the model:**\n",
    "        - Assess parameters (slope,intercept)\n",
    "        - Check if the model explains the variation in the data (RMSE, F, R_square)\n",
    "        - *Are the coeffs, slopes, intercepts in appropriate units?*\n",
    "        - *Whats the impact of collinearity? Can we ignore?*\n",
    "        <br><br>\n",
    "    - **Revise the fitted model**\n",
    "        - Multicollinearity is big issue for lin regression and cannot fully remove it\n",
    "        - Use the predictive ability of model to test it (like R2 and RMSE)\n",
    "        - Check for missed non-linearity\n",
    "        \n",
    "       \n",
    "6. **Interpret final model and draw >=3 conclusions and recommendations from dataset**"
   ]
  },
  {
   "cell_type": "markdown",
   "metadata": {
    "ExecuteTime": {
     "end_time": "2020-01-29T18:00:23.504059Z",
     "start_time": "2020-01-29T18:00:23.498461Z"
    }
   },
   "source": [
    "<div style=\"display:block;border-bottom:solid red 3px;padding:1.4em;color:red;font-size:30pt;display:inline-block;line-height:1.5em;\">\n",
    "DELETE THIS CELL AND EVERYTHING ABOVE FROM YOUR FINAL NOTEBOOK\n",
    "</div>"
   ]
  },
  {
   "cell_type": "markdown",
   "metadata": {},
   "source": [
    "# Final Project Submission"
   ]
  },
  {
   "cell_type": "markdown",
   "metadata": {},
   "source": [
    "Please fill out:\n",
    "* Student name: \n",
    "* Student pace: self paced / part time / full time:\n",
    "* Scheduled project review date/time: \n",
    "* Instructor name: \n",
    "* Blog post URL:\n",
    "* Video of 5-min Non-Technical Presentation:"
   ]
  },
  {
   "cell_type": "markdown",
   "metadata": {},
   "source": [
    "## TABLE OF CONTENTS "
   ]
  },
  {
   "cell_type": "markdown",
   "metadata": {},
   "source": [
    "*Click to jump to matching Markdown Header.*<br><br>\n",
    "\n",
    "<font size=3rem>\n",
    "    \n",
    "- **[Introduction](#INTRODUCTION)<br>**\n",
    "- **[OBTAIN](#OBTAIN)**<br>\n",
    "- **[SCRUB](#SCRUB)**<br>\n",
    "- **[EXPLORE](#EXPLORE)**<br>\n",
    "- **[MODEL](#MODEL)**<br>\n",
    "- **[iNTERPRET](#iNTERPRET)**<br>\n",
    "- **[Conclusions/Recommendations](#CONCLUSIONS-&-RECOMMENDATIONS)<br>**\n",
    "</font>\n",
    "___"
   ]
  },
  {
   "cell_type": "markdown",
   "metadata": {},
   "source": [
    "# INTRODUCTION"
   ]
  },
  {
   "cell_type": "markdown",
   "metadata": {},
   "source": [
    "> Explain the point of your project and what question you are trying to answer with your modeling.\n",
    "\n"
   ]
  },
  {
   "cell_type": "markdown",
   "metadata": {},
   "source": [
    "# OBTAIN"
   ]
  },
  {
   "cell_type": "code",
   "execution_count": 86,
   "metadata": {
    "ExecuteTime": {
     "end_time": "2021-07-05T14:58:59.061994Z",
     "start_time": "2021-07-05T14:58:59.051774Z"
    }
   },
   "outputs": [],
   "source": [
    "# Import all packages to be used\n",
    "import sys\n",
    "import pandas as pd\n",
    "import numpy as np\n",
    "import matplotlib.pyplot as plt\n",
    "import seaborn as sns\n",
    "import os\n",
    "import glob\n",
    "\n",
    "import nltk\n",
    "from nltk import FreqDist,word_tokenize, regexp_tokenize, TweetTokenizer\n",
    "from nltk.corpus import stopwords\n",
    "from nltk import FreqDist\n",
    "from nltk.stem.wordnet import WordNetLemmatizer\n",
    "\n",
    "import string\n",
    "\n",
    "from wordcloud import WordCloud\n",
    "\n",
    "%matplotlib inline\n",
    "\n",
    "# Set random seed\n",
    "np.random.seed(27)"
   ]
  },
  {
   "cell_type": "code",
   "execution_count": 2,
   "metadata": {
    "ExecuteTime": {
     "end_time": "2021-07-05T06:45:29.651046Z",
     "start_time": "2021-07-05T06:45:29.647969Z"
    }
   },
   "outputs": [],
   "source": [
    "pd.options.display.max_colwidth = None"
   ]
  },
  {
   "cell_type": "code",
   "execution_count": 5,
   "metadata": {
    "ExecuteTime": {
     "end_time": "2021-07-05T06:59:26.052573Z",
     "start_time": "2021-07-05T06:59:26.040441Z"
    }
   },
   "outputs": [
    {
     "data": {
      "text/plain": [
       "['data/stoic.csv',\n",
       " 'data/shine-calm-anxiety-stress.csv',\n",
       " 'data/moodfit.csv',\n",
       " 'data/slumber-fall-asleep-insomnia.csv',\n",
       " 'data/pzizz-sleep-nap-focus.csv',\n",
       " 'data/headspace-meditation-sleep.csv',\n",
       " 'data/breathe2relax.csv',\n",
       " 'data/fabulous-daily-routine-planner.csv',\n",
       " 'data/app-name-id.csv',\n",
       " 'data/breethe-meditation-sleep.csv',\n",
       " 'data/talkspace-therapy-counseling.csv',\n",
       " 'data/smiling-mind.csv',\n",
       " 'data/calm.csv',\n",
       " 'data/rootd-panic-attack-relief.csv',\n",
       " 'data/reflectly-journal-ai-diary.csv',\n",
       " 'data/whats-up-a-mental-health-app.csv',\n",
       " 'data/betterme-calm-sleep-meditate.csv',\n",
       " 'data/relax-meditation-guided-mind.csv',\n",
       " 'data/insight-timer-meditation-app.csv',\n",
       " 'data/cbt-i-coach.csv',\n",
       " 'data/meditopia-meditation-breathe.csv',\n",
       " 'data/moodtools-depression-aid.csv',\n",
       " 'data/moodmission.csv',\n",
       " 'data/noisli.csv',\n",
       " 'data/mindshift-cbt-anxiety-relief.csv',\n",
       " 'data/minddoc-your-companion.csv',\n",
       " 'data/ten-percent-happier-meditation.csv',\n",
       " 'data/innerhour-self-care-therapy.csv',\n",
       " 'data/sanvello-anxiety-depression.csv',\n",
       " 'data/happify-for-stress-worry.csv',\n",
       " 'data/youper-self-guided-therapy.csv',\n",
       " 'data/app_info.csv',\n",
       " 'data/mindfulness-with-petit-bambou.csv']"
      ]
     },
     "execution_count": 5,
     "metadata": {},
     "output_type": "execute_result"
    }
   ],
   "source": [
    "path = r'data'\n",
    "all_files = glob.glob(os.path.join(path, \"*.csv\"))\n",
    "all_files"
   ]
  },
  {
   "cell_type": "code",
   "execution_count": 9,
   "metadata": {
    "ExecuteTime": {
     "end_time": "2021-07-05T07:06:35.535500Z",
     "start_time": "2021-07-05T07:06:35.530858Z"
    }
   },
   "outputs": [
    {
     "data": {
      "text/plain": [
       "['data/stoic.csv',\n",
       " 'data/shine-calm-anxiety-stress.csv',\n",
       " 'data/moodfit.csv',\n",
       " 'data/slumber-fall-asleep-insomnia.csv',\n",
       " 'data/pzizz-sleep-nap-focus.csv',\n",
       " 'data/headspace-meditation-sleep.csv',\n",
       " 'data/breathe2relax.csv',\n",
       " 'data/fabulous-daily-routine-planner.csv',\n",
       " 'data/breethe-meditation-sleep.csv',\n",
       " 'data/talkspace-therapy-counseling.csv',\n",
       " 'data/smiling-mind.csv',\n",
       " 'data/calm.csv',\n",
       " 'data/rootd-panic-attack-relief.csv',\n",
       " 'data/reflectly-journal-ai-diary.csv',\n",
       " 'data/whats-up-a-mental-health-app.csv',\n",
       " 'data/betterme-calm-sleep-meditate.csv',\n",
       " 'data/relax-meditation-guided-mind.csv',\n",
       " 'data/insight-timer-meditation-app.csv',\n",
       " 'data/cbt-i-coach.csv',\n",
       " 'data/meditopia-meditation-breathe.csv',\n",
       " 'data/moodtools-depression-aid.csv',\n",
       " 'data/moodmission.csv',\n",
       " 'data/noisli.csv',\n",
       " 'data/mindshift-cbt-anxiety-relief.csv',\n",
       " 'data/minddoc-your-companion.csv',\n",
       " 'data/ten-percent-happier-meditation.csv',\n",
       " 'data/innerhour-self-care-therapy.csv',\n",
       " 'data/sanvello-anxiety-depression.csv',\n",
       " 'data/happify-for-stress-worry.csv',\n",
       " 'data/youper-self-guided-therapy.csv',\n",
       " 'data/mindfulness-with-petit-bambou.csv']"
      ]
     },
     "execution_count": 9,
     "metadata": {},
     "output_type": "execute_result"
    }
   ],
   "source": [
    "all_files.pop(-2)\n",
    "all_files.pop(8)\n",
    "all_files"
   ]
  },
  {
   "cell_type": "code",
   "execution_count": 10,
   "metadata": {
    "ExecuteTime": {
     "end_time": "2021-07-05T07:07:08.706900Z",
     "start_time": "2021-07-05T07:07:08.364267Z"
    }
   },
   "outputs": [],
   "source": [
    "df_list = []\n",
    "\n",
    "for filename in all_files:\n",
    "    temp_df = pd.read_csv(filename)\n",
    "    df_list.append(temp_df)"
   ]
  },
  {
   "cell_type": "code",
   "execution_count": 11,
   "metadata": {
    "ExecuteTime": {
     "end_time": "2021-07-05T07:07:09.795542Z",
     "start_time": "2021-07-05T07:07:09.726763Z"
    }
   },
   "outputs": [
    {
     "data": {
      "text/html": [
       "<div>\n",
       "<style scoped>\n",
       "    .dataframe tbody tr th:only-of-type {\n",
       "        vertical-align: middle;\n",
       "    }\n",
       "\n",
       "    .dataframe tbody tr th {\n",
       "        vertical-align: top;\n",
       "    }\n",
       "\n",
       "    .dataframe thead th {\n",
       "        text-align: right;\n",
       "    }\n",
       "</style>\n",
       "<table border=\"1\" class=\"dataframe\">\n",
       "  <thead>\n",
       "    <tr style=\"text-align: right;\">\n",
       "      <th></th>\n",
       "      <th>rating</th>\n",
       "      <th>date</th>\n",
       "      <th>title</th>\n",
       "      <th>isEdited</th>\n",
       "      <th>review</th>\n",
       "      <th>userName</th>\n",
       "      <th>app_name</th>\n",
       "      <th>app_id</th>\n",
       "      <th>developerResponse</th>\n",
       "    </tr>\n",
       "  </thead>\n",
       "  <tbody>\n",
       "    <tr>\n",
       "      <th>0</th>\n",
       "      <td>5</td>\n",
       "      <td>2020-05-15 21:12:51</td>\n",
       "      <td>A non judgmental guide to a better self</td>\n",
       "      <td>False</td>\n",
       "      <td>This app just keeps getting better and better. While using stoicism as a framework, this app has really been a way for me to practice personal reflection and awareness, cultivating better emotional wellness. Easily accessible techniques for gratitude, journaling, meditation, and breathing exercises without the pressure of any one thing being a requirement. The app guides you to those tools through a pleasant sequence without any pressure to use specific techniques. It’s so gentle. If you want to journal, then journal. If you want to meditate, then do that. And if you don’t, that’s ok too. It’s totally up to you. I find tremendous value in the simple act of making these sequences a part of my daily morning and evening routine; from simply opening the app and assessing how I feel to what my priority for the day is to how productive I felt. The app now even guides personal reflection towards specific categories. If in the morning I say I’m going to focus on reading, in the evening the app will then guide me to reflect on recalling what I read that day. So simple, but so helpful. Excellent user experience, an essential part of my every day routine now.</td>\n",
       "      <td>CheeseNinjaIPA98</td>\n",
       "      <td>stoic</td>\n",
       "      <td>1312926037</td>\n",
       "      <td>NaN</td>\n",
       "    </tr>\n",
       "    <tr>\n",
       "      <th>1</th>\n",
       "      <td>3</td>\n",
       "      <td>2021-04-20 12:43:19</td>\n",
       "      <td>Maybe I don't know how to use this app?</td>\n",
       "      <td>False</td>\n",
       "      <td>I'm not really sure how I feel about this app. While it does ask you questions/give you prompts to get you talking about things, sometimes the questions are weird. I had one this morning, somewhere along the lines of \"what are you then, a mere body? a ration being.\" And I'm staring at my screen like how do I even answer this if I don't understand the question? There's other ones that are similar and because I don't understand what it's asking me to write, sometimes I'll just put \"lol\" so I can move to the next page. Then when you're done with your questions it will ask if you feel better and mostly my answer has been no because the questions it gave me were weird. You can pick what questions you'd like to be asked everyday but none of them really jump out to me as something I'd want to answer daily besides the one sentence summary of your day but even that is whatever. I do like that it tracks your mood, would be cool to have another tracker for what is causing your mood instead of the sad to happy face scale. The quotes are cool too. I've been using the app for about 2 weeks now and I feel like maybe twice out of the 14 days, it's actually asked me something relevant. More often than not, I'm using the blank page entries instead but I could just write those in my actual journal. Perhaps this app isn't for me, but it seems to work for people.</td>\n",
       "      <td>Jay2DaNaay</td>\n",
       "      <td>stoic</td>\n",
       "      <td>1312926037</td>\n",
       "      <td>NaN</td>\n",
       "    </tr>\n",
       "    <tr>\n",
       "      <th>2</th>\n",
       "      <td>3</td>\n",
       "      <td>2020-10-31 00:11:52</td>\n",
       "      <td>Good For Simple Journaling</td>\n",
       "      <td>False</td>\n",
       "      <td>I am enjoying the free version of the app, (so this is coming from that point of view.) The daily prompts are repetitive but the paid version promises more “reflective questions” and “quotes”. (I wonder, how different could it be?) I do like the daily “choose your own/write your own ”mantra/saying/quote/etc.” There are quotes/reflections to use as journal prompts, if you just feel like typing. The daily mood/goal prompts kind of deter me away from using the app. It almost seems like a chore, mostly because not every answer for the “mood/goal” question warrants the next prompt which is usually,  the exact same question about what we plan to do about such-and-such from the previous answers. Everything is predictable. Most of the time I just find myself lumping my thoughts into the closest category, or rushing by multiple prompts to get to the writing part and find I am uninspired. This has app has potential but I feel there are two different ideas clashing here. I love inspiration when I want to write something, but if I want to journal purely for self-reflection and self/improvement I’d like a little more depth, less out-of-context quotes from other people. Either way, there was a lot of work put into this, and a need for it too!</td>\n",
       "      <td>SilenceRecited</td>\n",
       "      <td>stoic</td>\n",
       "      <td>1312926037</td>\n",
       "      <td>NaN</td>\n",
       "    </tr>\n",
       "    <tr>\n",
       "      <th>3</th>\n",
       "      <td>5</td>\n",
       "      <td>2021-04-03 14:27:52</td>\n",
       "      <td>yuhhhhhh</td>\n",
       "      <td>False</td>\n",
       "      <td>I downloaded this app last week and it’s been on my home page since then. I’ve only started using this app a few days ago and OMG😳 This app is so beautiful. I’m only writing a review just so I can ask if you guys can put a password for the journal part because my mom looks through my phone and I don’t want her to read the things I write in there💀 Anyways, I do actually really love this app and its perfect from the bottom of those codes and to the top of the icon. It’s iconic honestly. Not to forget the fact that it’s been lifting burdens and weights off of my back when I type everything in details. It’s like a friend that I’ve always wanted, which is sad because none of my real (alive) friends are there for me and asks me how I am like how stoic is🥲 Ever since the app asked me the first question, I’ve poured allllll of the things I wanted to say and in details too. I- this app is like that one friend that you have that’s always there for you no matter what and genuinely cares for you so deeply and that you’re comfortable being around them even though you’ve only met last week. yknow? this app is my twin flame.</td>\n",
       "      <td>kytedot</td>\n",
       "      <td>stoic</td>\n",
       "      <td>1312926037</td>\n",
       "      <td>NaN</td>\n",
       "    </tr>\n",
       "    <tr>\n",
       "      <th>4</th>\n",
       "      <td>5</td>\n",
       "      <td>2020-11-24 01:18:05</td>\n",
       "      <td>This is an amazing app</td>\n",
       "      <td>False</td>\n",
       "      <td>I typically do not like journaling on my phone however, I stumbled upon this app and gave it a try and I absolutely love it. I wasn’t sure if I wanted to buy a membership but I did because I wanted to have full access to the entire app to be able to really see if it was worth it. So far, I have used the app in the morning and evening. I wanted to be able to track my mood to get a good sense of what really bothers me and be able to journal. I find that it really helps me find peace and be able to find happy moments in my day when it is hard to find sometimes. I love being able to find ways to be grateful and this really helps me find those moments in the day when you’ve been so stressed and all you can think of is the negative parts and then turning it around to find those moments that stand out that are positive. Even during times of stress I have been able to see the positive. I’ve been able to take a step back and really look at each situation as a learning experience and sometimes it is hard to do when you are battling depression, anxiety and PTSD. Definitely recommend this app!!</td>\n",
       "      <td>Chryssee</td>\n",
       "      <td>stoic</td>\n",
       "      <td>1312926037</td>\n",
       "      <td>NaN</td>\n",
       "    </tr>\n",
       "    <tr>\n",
       "      <th>...</th>\n",
       "      <td>...</td>\n",
       "      <td>...</td>\n",
       "      <td>...</td>\n",
       "      <td>...</td>\n",
       "      <td>...</td>\n",
       "      <td>...</td>\n",
       "      <td>...</td>\n",
       "      <td>...</td>\n",
       "      <td>...</td>\n",
       "    </tr>\n",
       "    <tr>\n",
       "      <th>28930</th>\n",
       "      <td>5</td>\n",
       "      <td>2020-07-22 18:55:03</td>\n",
       "      <td>J’adore!</td>\n",
       "      <td>False</td>\n",
       "      <td>Vraiment très bien faite, avec des programmes top. Ça fait 3 ans que je ne peux plus m’en passer!</td>\n",
       "      <td>thewinewifey</td>\n",
       "      <td>mindfulness-with-petit-bambou</td>\n",
       "      <td>941222646</td>\n",
       "      <td>NaN</td>\n",
       "    </tr>\n",
       "    <tr>\n",
       "      <th>28931</th>\n",
       "      <td>5</td>\n",
       "      <td>2020-07-18 03:00:01</td>\n",
       "      <td>Simplemente genial!</td>\n",
       "      <td>False</td>\n",
       "      <td>Maravillosa aplicación, llena de ayudas y acompañamiento para mantenerte “enganchado”. La mejor manera de aprender a meditar! Felicitaciones</td>\n",
       "      <td>Pepeclas</td>\n",
       "      <td>mindfulness-with-petit-bambou</td>\n",
       "      <td>941222646</td>\n",
       "      <td>NaN</td>\n",
       "    </tr>\n",
       "    <tr>\n",
       "      <th>28932</th>\n",
       "      <td>5</td>\n",
       "      <td>2020-06-05 22:38:39</td>\n",
       "      <td>Muy buena</td>\n",
       "      <td>False</td>\n",
       "      <td>Me encanta esta aplicación, es genial como te ayuda a canalizar las meditaciones. Es didáctica amena y sobre todo muy amorosa su manera de canalizar las meditaciones \\nPara los que como yo estamos comenzando es maravilloso como poco a poco te va adentrando a un mundo marsvilloso. Súper recomendada</td>\n",
       "      <td>martika11</td>\n",
       "      <td>mindfulness-with-petit-bambou</td>\n",
       "      <td>941222646</td>\n",
       "      <td>NaN</td>\n",
       "    </tr>\n",
       "    <tr>\n",
       "      <th>28933</th>\n",
       "      <td>5</td>\n",
       "      <td>2020-04-08 11:56:58</td>\n",
       "      <td>Gracias</td>\n",
       "      <td>False</td>\n",
       "      <td>Descubriendo esta herramienta</td>\n",
       "      <td>Pericantar</td>\n",
       "      <td>mindfulness-with-petit-bambou</td>\n",
       "      <td>941222646</td>\n",
       "      <td>NaN</td>\n",
       "    </tr>\n",
       "    <tr>\n",
       "      <th>28934</th>\n",
       "      <td>5</td>\n",
       "      <td>2020-03-10 17:51:50</td>\n",
       "      <td>Excelente app</td>\n",
       "      <td>False</td>\n",
       "      <td>Te lleva a la meditación de una forma suave, muy fácil de cumplir los tiempos y logra su objetivo, muy recomendable ❤️</td>\n",
       "      <td>Gaby I.</td>\n",
       "      <td>mindfulness-with-petit-bambou</td>\n",
       "      <td>941222646</td>\n",
       "      <td>NaN</td>\n",
       "    </tr>\n",
       "  </tbody>\n",
       "</table>\n",
       "<p>28935 rows × 9 columns</p>\n",
       "</div>"
      ],
      "text/plain": [
       "       rating                 date                                    title  \\\n",
       "0           5  2020-05-15 21:12:51  A non judgmental guide to a better self   \n",
       "1           3  2021-04-20 12:43:19  Maybe I don't know how to use this app?   \n",
       "2           3  2020-10-31 00:11:52               Good For Simple Journaling   \n",
       "3           5  2021-04-03 14:27:52                                 yuhhhhhh   \n",
       "4           5  2020-11-24 01:18:05                   This is an amazing app   \n",
       "...       ...                  ...                                      ...   \n",
       "28930       5  2020-07-22 18:55:03                                 J’adore!   \n",
       "28931       5  2020-07-18 03:00:01                      Simplemente genial!   \n",
       "28932       5  2020-06-05 22:38:39                                Muy buena   \n",
       "28933       5  2020-04-08 11:56:58                                  Gracias   \n",
       "28934       5  2020-03-10 17:51:50                            Excelente app   \n",
       "\n",
       "       isEdited  \\\n",
       "0         False   \n",
       "1         False   \n",
       "2         False   \n",
       "3         False   \n",
       "4         False   \n",
       "...         ...   \n",
       "28930     False   \n",
       "28931     False   \n",
       "28932     False   \n",
       "28933     False   \n",
       "28934     False   \n",
       "\n",
       "                                                                                                                                                                                                                                                                                                                                                                                                                                                                                                                                                                                                                                                                                                                                                                                                                                                                                                                                                                                                                                                                                                                                                                                                                                                                                                                                                                                                                     review  \\\n",
       "0                                                                                                                                                                                                            This app just keeps getting better and better. While using stoicism as a framework, this app has really been a way for me to practice personal reflection and awareness, cultivating better emotional wellness. Easily accessible techniques for gratitude, journaling, meditation, and breathing exercises without the pressure of any one thing being a requirement. The app guides you to those tools through a pleasant sequence without any pressure to use specific techniques. It’s so gentle. If you want to journal, then journal. If you want to meditate, then do that. And if you don’t, that’s ok too. It’s totally up to you. I find tremendous value in the simple act of making these sequences a part of my daily morning and evening routine; from simply opening the app and assessing how I feel to what my priority for the day is to how productive I felt. The app now even guides personal reflection towards specific categories. If in the morning I say I’m going to focus on reading, in the evening the app will then guide me to reflect on recalling what I read that day. So simple, but so helpful. Excellent user experience, an essential part of my every day routine now.   \n",
       "1      I'm not really sure how I feel about this app. While it does ask you questions/give you prompts to get you talking about things, sometimes the questions are weird. I had one this morning, somewhere along the lines of \"what are you then, a mere body? a ration being.\" And I'm staring at my screen like how do I even answer this if I don't understand the question? There's other ones that are similar and because I don't understand what it's asking me to write, sometimes I'll just put \"lol\" so I can move to the next page. Then when you're done with your questions it will ask if you feel better and mostly my answer has been no because the questions it gave me were weird. You can pick what questions you'd like to be asked everyday but none of them really jump out to me as something I'd want to answer daily besides the one sentence summary of your day but even that is whatever. I do like that it tracks your mood, would be cool to have another tracker for what is causing your mood instead of the sad to happy face scale. The quotes are cool too. I've been using the app for about 2 weeks now and I feel like maybe twice out of the 14 days, it's actually asked me something relevant. More often than not, I'm using the blank page entries instead but I could just write those in my actual journal. Perhaps this app isn't for me, but it seems to work for people.   \n",
       "2                                                                                                                          I am enjoying the free version of the app, (so this is coming from that point of view.) The daily prompts are repetitive but the paid version promises more “reflective questions” and “quotes”. (I wonder, how different could it be?) I do like the daily “choose your own/write your own ”mantra/saying/quote/etc.” There are quotes/reflections to use as journal prompts, if you just feel like typing. The daily mood/goal prompts kind of deter me away from using the app. It almost seems like a chore, mostly because not every answer for the “mood/goal” question warrants the next prompt which is usually,  the exact same question about what we plan to do about such-and-such from the previous answers. Everything is predictable. Most of the time I just find myself lumping my thoughts into the closest category, or rushing by multiple prompts to get to the writing part and find I am uninspired. This has app has potential but I feel there are two different ideas clashing here. I love inspiration when I want to write something, but if I want to journal purely for self-reflection and self/improvement I’d like a little more depth, less out-of-context quotes from other people. Either way, there was a lot of work put into this, and a need for it too!   \n",
       "3                                                                                                                                                                                                                                                   I downloaded this app last week and it’s been on my home page since then. I’ve only started using this app a few days ago and OMG😳 This app is so beautiful. I’m only writing a review just so I can ask if you guys can put a password for the journal part because my mom looks through my phone and I don’t want her to read the things I write in there💀 Anyways, I do actually really love this app and its perfect from the bottom of those codes and to the top of the icon. It’s iconic honestly. Not to forget the fact that it’s been lifting burdens and weights off of my back when I type everything in details. It’s like a friend that I’ve always wanted, which is sad because none of my real (alive) friends are there for me and asks me how I am like how stoic is🥲 Ever since the app asked me the first question, I’ve poured allllll of the things I wanted to say and in details too. I- this app is like that one friend that you have that’s always there for you no matter what and genuinely cares for you so deeply and that you’re comfortable being around them even though you’ve only met last week. yknow? this app is my twin flame.   \n",
       "4                                                                                                                                                                                                                                                                               I typically do not like journaling on my phone however, I stumbled upon this app and gave it a try and I absolutely love it. I wasn’t sure if I wanted to buy a membership but I did because I wanted to have full access to the entire app to be able to really see if it was worth it. So far, I have used the app in the morning and evening. I wanted to be able to track my mood to get a good sense of what really bothers me and be able to journal. I find that it really helps me find peace and be able to find happy moments in my day when it is hard to find sometimes. I love being able to find ways to be grateful and this really helps me find those moments in the day when you’ve been so stressed and all you can think of is the negative parts and then turning it around to find those moments that stand out that are positive. Even during times of stress I have been able to see the positive. I’ve been able to take a step back and really look at each situation as a learning experience and sometimes it is hard to do when you are battling depression, anxiety and PTSD. Definitely recommend this app!!   \n",
       "...                                                                                                                                                                                                                                                                                                                                                                                                                                                                                                                                                                                                                                                                                                                                                                                                                                                                                                                                                                                                                                                                                                                                                                                                                                                                                                                                                                                                                     ...   \n",
       "28930                                                                                                                                                                                                                                                                                                                                                                                                                                                                                                                                                                                                                                                                                                                                                                                                                                                                                                                                                                                                                                                                                                                                                                                                                                                                                                                     Vraiment très bien faite, avec des programmes top. Ça fait 3 ans que je ne peux plus m’en passer!   \n",
       "28931                                                                                                                                                                                                                                                                                                                                                                                                                                                                                                                                                                                                                                                                                                                                                                                                                                                                                                                                                                                                                                                                                                                                                                                                                                                                          Maravillosa aplicación, llena de ayudas y acompañamiento para mantenerte “enganchado”. La mejor manera de aprender a meditar! Felicitaciones   \n",
       "28932                                                                                                                                                                                                                                                                                                                                                                                                                                                                                                                                                                                                                                                                                                                                                                                                                                                                                                                                                                                                                                                                                                            Me encanta esta aplicación, es genial como te ayuda a canalizar las meditaciones. Es didáctica amena y sobre todo muy amorosa su manera de canalizar las meditaciones \\nPara los que como yo estamos comenzando es maravilloso como poco a poco te va adentrando a un mundo marsvilloso. Súper recomendada   \n",
       "28933                                                                                                                                                                                                                                                                                                                                                                                                                                                                                                                                                                                                                                                                                                                                                                                                                                                                                                                                                                                                                                                                                                                                                                                                                                                                                                                                                                                         Descubriendo esta herramienta   \n",
       "28934                                                                                                                                                                                                                                                                                                                                                                                                                                                                                                                                                                                                                                                                                                                                                                                                                                                                                                                                                                                                                                                                                                                                                                                                                                                                                                Te lleva a la meditación de una forma suave, muy fácil de cumplir los tiempos y logra su objetivo, muy recomendable ❤️   \n",
       "\n",
       "               userName                       app_name      app_id  \\\n",
       "0      CheeseNinjaIPA98                          stoic  1312926037   \n",
       "1            Jay2DaNaay                          stoic  1312926037   \n",
       "2        SilenceRecited                          stoic  1312926037   \n",
       "3               kytedot                          stoic  1312926037   \n",
       "4              Chryssee                          stoic  1312926037   \n",
       "...                 ...                            ...         ...   \n",
       "28930      thewinewifey  mindfulness-with-petit-bambou   941222646   \n",
       "28931          Pepeclas  mindfulness-with-petit-bambou   941222646   \n",
       "28932         martika11  mindfulness-with-petit-bambou   941222646   \n",
       "28933        Pericantar  mindfulness-with-petit-bambou   941222646   \n",
       "28934           Gaby I.  mindfulness-with-petit-bambou   941222646   \n",
       "\n",
       "      developerResponse  \n",
       "0                   NaN  \n",
       "1                   NaN  \n",
       "2                   NaN  \n",
       "3                   NaN  \n",
       "4                   NaN  \n",
       "...                 ...  \n",
       "28930               NaN  \n",
       "28931               NaN  \n",
       "28932               NaN  \n",
       "28933               NaN  \n",
       "28934               NaN  \n",
       "\n",
       "[28935 rows x 9 columns]"
      ]
     },
     "execution_count": 11,
     "metadata": {},
     "output_type": "execute_result"
    }
   ],
   "source": [
    "df = pd.concat(df_list, axis=0, ignore_index=True)\n",
    "df"
   ]
  },
  {
   "cell_type": "code",
   "execution_count": 46,
   "metadata": {
    "ExecuteTime": {
     "end_time": "2021-07-05T07:30:17.573436Z",
     "start_time": "2021-07-05T07:30:17.553017Z"
    }
   },
   "outputs": [
    {
     "name": "stdout",
     "output_type": "stream",
     "text": [
      "<class 'pandas.core.frame.DataFrame'>\n",
      "RangeIndex: 28935 entries, 0 to 28934\n",
      "Data columns (total 9 columns):\n",
      " #   Column             Non-Null Count  Dtype \n",
      "---  ------             --------------  ----- \n",
      " 0   rating             28935 non-null  int64 \n",
      " 1   date               28935 non-null  object\n",
      " 2   title              28935 non-null  object\n",
      " 3   isEdited           28935 non-null  bool  \n",
      " 4   review             28934 non-null  object\n",
      " 5   userName           28935 non-null  object\n",
      " 6   app_name           28935 non-null  object\n",
      " 7   app_id             28935 non-null  int64 \n",
      " 8   developerResponse  4183 non-null   object\n",
      "dtypes: bool(1), int64(2), object(6)\n",
      "memory usage: 1.8+ MB\n"
     ]
    }
   ],
   "source": [
    "df.info()"
   ]
  },
  {
   "cell_type": "code",
   "execution_count": 47,
   "metadata": {
    "ExecuteTime": {
     "end_time": "2021-07-05T07:35:27.689690Z",
     "start_time": "2021-07-05T07:35:27.674540Z"
    }
   },
   "outputs": [
    {
     "data": {
      "text/html": [
       "<div>\n",
       "<style scoped>\n",
       "    .dataframe tbody tr th:only-of-type {\n",
       "        vertical-align: middle;\n",
       "    }\n",
       "\n",
       "    .dataframe tbody tr th {\n",
       "        vertical-align: top;\n",
       "    }\n",
       "\n",
       "    .dataframe thead th {\n",
       "        text-align: right;\n",
       "    }\n",
       "</style>\n",
       "<table border=\"1\" class=\"dataframe\">\n",
       "  <thead>\n",
       "    <tr style=\"text-align: right;\">\n",
       "      <th></th>\n",
       "      <th>rating</th>\n",
       "      <th>date</th>\n",
       "      <th>title</th>\n",
       "      <th>isEdited</th>\n",
       "      <th>review</th>\n",
       "      <th>userName</th>\n",
       "      <th>app_name</th>\n",
       "      <th>app_id</th>\n",
       "      <th>developerResponse</th>\n",
       "    </tr>\n",
       "  </thead>\n",
       "  <tbody>\n",
       "    <tr>\n",
       "      <th>11120</th>\n",
       "      <td>4</td>\n",
       "      <td>2021-01-23 13:54:34</td>\n",
       "      <td>Trying to remove my review after request for refund was accepted</td>\n",
       "      <td>True</td>\n",
       "      <td>NaN</td>\n",
       "      <td>Xwave500</td>\n",
       "      <td>talkspace-therapy-counseling</td>\n",
       "      <td>661829386</td>\n",
       "      <td>{'id': 20485547, 'body': 'Hi there, we are so sorry to hear of your less than optimal experience. Someone from our team would love to look into what happened and do what we can to make this right by you. Please send us an email at Feedback@Talkspace.com, we look forward to hearing from you. ', 'modified': '2021-01-18T20:54:59Z'}</td>\n",
       "    </tr>\n",
       "  </tbody>\n",
       "</table>\n",
       "</div>"
      ],
      "text/plain": [
       "       rating                 date  \\\n",
       "11120       4  2021-01-23 13:54:34   \n",
       "\n",
       "                                                                  title  \\\n",
       "11120  Trying to remove my review after request for refund was accepted   \n",
       "\n",
       "       isEdited review  userName                      app_name     app_id  \\\n",
       "11120      True    NaN  Xwave500  talkspace-therapy-counseling  661829386   \n",
       "\n",
       "                                                                                                                                                                                                                                                                                                                                developerResponse  \n",
       "11120  {'id': 20485547, 'body': 'Hi there, we are so sorry to hear of your less than optimal experience. Someone from our team would love to look into what happened and do what we can to make this right by you. Please send us an email at Feedback@Talkspace.com, we look forward to hearing from you. ', 'modified': '2021-01-18T20:54:59Z'}  "
      ]
     },
     "execution_count": 47,
     "metadata": {},
     "output_type": "execute_result"
    }
   ],
   "source": [
    "df[df['review'].isna()]"
   ]
  },
  {
   "cell_type": "code",
   "execution_count": 49,
   "metadata": {
    "ExecuteTime": {
     "end_time": "2021-07-05T07:37:48.904347Z",
     "start_time": "2021-07-05T07:37:48.893658Z"
    }
   },
   "outputs": [],
   "source": [
    "df = df[df['review'].isna()==False]"
   ]
  },
  {
   "cell_type": "code",
   "execution_count": 50,
   "metadata": {
    "ExecuteTime": {
     "end_time": "2021-07-05T07:37:54.740686Z",
     "start_time": "2021-07-05T07:37:54.721178Z"
    }
   },
   "outputs": [
    {
     "name": "stdout",
     "output_type": "stream",
     "text": [
      "<class 'pandas.core.frame.DataFrame'>\n",
      "Int64Index: 28934 entries, 0 to 28934\n",
      "Data columns (total 9 columns):\n",
      " #   Column             Non-Null Count  Dtype \n",
      "---  ------             --------------  ----- \n",
      " 0   rating             28934 non-null  int64 \n",
      " 1   date               28934 non-null  object\n",
      " 2   title              28934 non-null  object\n",
      " 3   isEdited           28934 non-null  bool  \n",
      " 4   review             28934 non-null  object\n",
      " 5   userName           28934 non-null  object\n",
      " 6   app_name           28934 non-null  object\n",
      " 7   app_id             28934 non-null  int64 \n",
      " 8   developerResponse  4182 non-null   object\n",
      "dtypes: bool(1), int64(2), object(6)\n",
      "memory usage: 2.0+ MB\n"
     ]
    }
   ],
   "source": [
    "df.info()"
   ]
  },
  {
   "cell_type": "code",
   "execution_count": 52,
   "metadata": {
    "ExecuteTime": {
     "end_time": "2021-07-05T07:38:06.018754Z",
     "start_time": "2021-07-05T07:38:06.001293Z"
    }
   },
   "outputs": [
    {
     "data": {
      "text/html": [
       "<div>\n",
       "<style scoped>\n",
       "    .dataframe tbody tr th:only-of-type {\n",
       "        vertical-align: middle;\n",
       "    }\n",
       "\n",
       "    .dataframe tbody tr th {\n",
       "        vertical-align: top;\n",
       "    }\n",
       "\n",
       "    .dataframe thead th {\n",
       "        text-align: right;\n",
       "    }\n",
       "</style>\n",
       "<table border=\"1\" class=\"dataframe\">\n",
       "  <thead>\n",
       "    <tr style=\"text-align: right;\">\n",
       "      <th></th>\n",
       "      <th>rating</th>\n",
       "      <th>app_id</th>\n",
       "    </tr>\n",
       "  </thead>\n",
       "  <tbody>\n",
       "    <tr>\n",
       "      <th>count</th>\n",
       "      <td>28934.000000</td>\n",
       "      <td>2.893400e+04</td>\n",
       "    </tr>\n",
       "    <tr>\n",
       "      <th>mean</th>\n",
       "      <td>4.217599</td>\n",
       "      <td>8.829186e+08</td>\n",
       "    </tr>\n",
       "    <tr>\n",
       "      <th>std</th>\n",
       "      <td>1.368784</td>\n",
       "      <td>3.469392e+08</td>\n",
       "    </tr>\n",
       "    <tr>\n",
       "      <th>min</th>\n",
       "      <td>1.000000</td>\n",
       "      <td>3.374729e+08</td>\n",
       "    </tr>\n",
       "    <tr>\n",
       "      <th>25%</th>\n",
       "      <td>4.000000</td>\n",
       "      <td>5.718008e+08</td>\n",
       "    </tr>\n",
       "    <tr>\n",
       "      <th>50%</th>\n",
       "      <td>5.000000</td>\n",
       "      <td>9.922102e+08</td>\n",
       "    </tr>\n",
       "    <tr>\n",
       "      <th>75%</th>\n",
       "      <td>5.000000</td>\n",
       "      <td>1.203637e+09</td>\n",
       "    </tr>\n",
       "    <tr>\n",
       "      <th>max</th>\n",
       "      <td>5.000000</td>\n",
       "      <td>1.363010e+09</td>\n",
       "    </tr>\n",
       "  </tbody>\n",
       "</table>\n",
       "</div>"
      ],
      "text/plain": [
       "             rating        app_id\n",
       "count  28934.000000  2.893400e+04\n",
       "mean       4.217599  8.829186e+08\n",
       "std        1.368784  3.469392e+08\n",
       "min        1.000000  3.374729e+08\n",
       "25%        4.000000  5.718008e+08\n",
       "50%        5.000000  9.922102e+08\n",
       "75%        5.000000  1.203637e+09\n",
       "max        5.000000  1.363010e+09"
      ]
     },
     "execution_count": 52,
     "metadata": {},
     "output_type": "execute_result"
    }
   ],
   "source": [
    "df.describe()"
   ]
  },
  {
   "cell_type": "code",
   "execution_count": 53,
   "metadata": {
    "ExecuteTime": {
     "end_time": "2021-07-05T07:40:21.879833Z",
     "start_time": "2021-07-05T07:40:21.854375Z"
    }
   },
   "outputs": [
    {
     "data": {
      "text/html": [
       "<div>\n",
       "<style scoped>\n",
       "    .dataframe tbody tr th:only-of-type {\n",
       "        vertical-align: middle;\n",
       "    }\n",
       "\n",
       "    .dataframe tbody tr th {\n",
       "        vertical-align: top;\n",
       "    }\n",
       "\n",
       "    .dataframe thead th {\n",
       "        text-align: right;\n",
       "    }\n",
       "</style>\n",
       "<table border=\"1\" class=\"dataframe\">\n",
       "  <thead>\n",
       "    <tr style=\"text-align: right;\">\n",
       "      <th></th>\n",
       "      <th>rating</th>\n",
       "      <th>date</th>\n",
       "      <th>title</th>\n",
       "      <th>isEdited</th>\n",
       "      <th>review</th>\n",
       "      <th>userName</th>\n",
       "      <th>app_name</th>\n",
       "      <th>app_id</th>\n",
       "      <th>developerResponse</th>\n",
       "    </tr>\n",
       "  </thead>\n",
       "  <tbody>\n",
       "    <tr>\n",
       "      <th>11</th>\n",
       "      <td>5</td>\n",
       "      <td>2021-02-10 13:08:43</td>\n",
       "      <td>High Recommend!!</td>\n",
       "      <td>True</td>\n",
       "      <td>I’ve written a couple app reviews for this app before, but I just want to put in that after using it for about three months now, I must say that stoic is quite a wonderful app! It gives you all sorts of options for things to do that really help my everyday mentality, like breathing excersize, meditations, and fear settings/thought excersize. A high recommend! I’d say my only issue with this app is probably that the morning routines are SO long. Honestly I don’t mind doing them, but I just wish there were options to choose the amount of questions asked. People are busy, not everyone has 30 minutes each morning to answer like 10 questions. Perhaps five or six? Also I like the meditation options they have, I only wish they had a few guided ones. That’s only a request, not a complaint though! My first point was a complaint.</td>\n",
       "      <td>Raimabird</td>\n",
       "      <td>stoic</td>\n",
       "      <td>1312926037</td>\n",
       "      <td>{'id': 20357398, 'body': 'could you check what hour you have in ‚your profile’ -&gt; personalize -&gt; start day at?\\n\\nbest,\\nm.', 'modified': '2021-01-12T22:23:35Z'}</td>\n",
       "    </tr>\n",
       "    <tr>\n",
       "      <th>20</th>\n",
       "      <td>5</td>\n",
       "      <td>2020-04-11 13:38:29</td>\n",
       "      <td>Im confused</td>\n",
       "      <td>True</td>\n",
       "      <td>I’ve had it for one day and it’s already messing up. I like the app so far I really do but it is telling me that it’s still Thursday(yesterday) but today is Friday. It might be because I didn’t do my “evening routine but I did it today and still wouldn’t let me go to the next day. I’m confused and don’t know what to do, I tried deleting and re-downloading it but it didn’t work other than just giving me the same day and have to redo it over again. Someone help me please.\\nEdit: Never mind I got it to fix itself after quite a bit of time. I do really like the app so far after one day of use but yeah. But also thank you for the response that makes it much easier for me and now it’ll always be on the right day.</td>\n",
       "      <td>wolfgirl💙🌑🐺</td>\n",
       "      <td>stoic</td>\n",
       "      <td>1312926037</td>\n",
       "      <td>{'id': 14596171, 'body': 'hey,\\n\\nmy apologies for your trouble. could you open ‘you tab’ -&gt; personalize day -&gt; day start -&gt; pick 12am?\\n\\nbest,\\nm.', 'modified': '2020-04-10T19:52:32Z'}</td>\n",
       "    </tr>\n",
       "    <tr>\n",
       "      <th>62</th>\n",
       "      <td>4</td>\n",
       "      <td>2021-05-18 03:27:09</td>\n",
       "      <td>Excellent Customer Service</td>\n",
       "      <td>True</td>\n",
       "      <td>When an issue arose (and the issue was mine alone), the developer responded immediately and assisted me greatly. In the event other incorrectly associate this site with anything related to Ryan Holiday, as I did, they are not connected. \\n\\nOne app bug I do wonder about is why the daily count randomly restarts at one. Also, thought it might be cool if there was a way to print the journals (perhaps even commercially or bound- all or as a selection). Perhaps you can and I’m just not great with tech. Anyway…. Thank you for the email and I am sorry for the incorrect association.</td>\n",
       "      <td>Mark50998926</td>\n",
       "      <td>stoic</td>\n",
       "      <td>1312926037</td>\n",
       "      <td>{'id': 22856122, 'body': 'hej Mark,\\n\\nwe are not associated with mr. Holiday in any way (besides the fact that i personally admire his work)\\n\\nbest,\\nmaciej\\n\\n', 'modified': '2021-05-17T15:50:36Z'}</td>\n",
       "    </tr>\n",
       "    <tr>\n",
       "      <th>249</th>\n",
       "      <td>5</td>\n",
       "      <td>2020-05-05 07:02:30</td>\n",
       "      <td>Love it</td>\n",
       "      <td>True</td>\n",
       "      <td>I’ve been using this for a while and it’s just a great mix of good habits.\\n\\nOne thing I’d love for the morning questions is the ability to add a free form question or something like: “What value do you aim to grow today?”.\\n\\nThanks for the great work!</td>\n",
       "      <td>porcoesphino</td>\n",
       "      <td>stoic</td>\n",
       "      <td>1312926037</td>\n",
       "      <td>{'id': 12623477, 'body': 'uh, you are right, there was a bug. thank you for letting me know.\\n\\ngood idea about the ‘nature 🌱’ tag. let me know if you have in mind more improvements, happy to implement them :)\\n\\nbest,\\nmaciej', 'modified': '2019-12-28T10:20:49Z'}</td>\n",
       "    </tr>\n",
       "    <tr>\n",
       "      <th>299</th>\n",
       "      <td>3</td>\n",
       "      <td>2020-07-24 14:28:38</td>\n",
       "      <td>Still no fix for toggling questions?</td>\n",
       "      <td>True</td>\n",
       "      <td>I complained before about being unable to toggle off the questions without being prompted to subscribe. Was told there’d be a fix in the next update. At least two updates and still no fix?</td>\n",
       "      <td>AllTheNicksWereTaken</td>\n",
       "      <td>stoic</td>\n",
       "      <td>1312926037</td>\n",
       "      <td>{'id': 16666136, 'body': 'woops, my mistake. you should be able to turn off questions without a premium sub.\\nmy apologies, we will fix that in the next update.\\n\\nm.\\n\\n—\\n\\nyeah, my apologies. i understood from your previous message that we have a bug when toggling the switch.\\nbut the fact that you can see the premium wall there is not a bug. the basic options of the app are free, personalization is paid.\\n\\nm.', 'modified': '2020-07-16T08:21:20Z'}</td>\n",
       "    </tr>\n",
       "    <tr>\n",
       "      <th>...</th>\n",
       "      <td>...</td>\n",
       "      <td>...</td>\n",
       "      <td>...</td>\n",
       "      <td>...</td>\n",
       "      <td>...</td>\n",
       "      <td>...</td>\n",
       "      <td>...</td>\n",
       "      <td>...</td>\n",
       "      <td>...</td>\n",
       "    </tr>\n",
       "    <tr>\n",
       "      <th>27421</th>\n",
       "      <td>5</td>\n",
       "      <td>2020-11-04 22:58:55</td>\n",
       "      <td>great!</td>\n",
       "      <td>True</td>\n",
       "      <td>i LOVE this app it gives me the satisfaction that other apps like this haven’t. it’s so helpful and makes me feel as if i’ve talked with a real therapist. i just have one problem, there’s to many blocked thing because of premium. i don’t want to have to pay to be relaxed. why should you have to pay for an app that’s supposed to help you and make people happy? other than that its great!!</td>\n",
       "      <td>Madison M V.</td>\n",
       "      <td>youper-self-guided-therapy</td>\n",
       "      <td>1060691513</td>\n",
       "      <td>{'id': 17129276, 'body': 'Hello Madison! Thank you for your positive feedback! We are pleased that you are satisfied with the application! We do our best to keep a useful set of tools free for users who are unable to subscribe, but ultimately, our subscription prices allow us to continue growing the AI capabilities and tools. Feel free to send any questions or feedback to youper.ai/support', 'modified': '2020-08-06T21:07:23Z'}</td>\n",
       "    </tr>\n",
       "    <tr>\n",
       "      <th>27496</th>\n",
       "      <td>5</td>\n",
       "      <td>2021-01-24 12:04:40</td>\n",
       "      <td>Love but doesn’t load all the time</td>\n",
       "      <td>True</td>\n",
       "      <td>Update: they updated the app, it works when I need it. The recommendations have gotten better and more personal. I use this app all the time. \\n\\nI love this app. But half the time I go to use it and it never loads. Seems kind of backwards. If it loaded and opened when I needed it it would have 5 stars.</td>\n",
       "      <td>Jenni RRT</td>\n",
       "      <td>youper-self-guided-therapy</td>\n",
       "      <td>1060691513</td>\n",
       "      <td>{'id': 13474003, 'body': 'Thanks for bringing this to our attention. Your comments are very helpful to us as we are always working to improve Youper and get rid of those annoying bugs ;-). Please access https://www.youper.ai/request to give us more details so we can have this fixed as soon as possible. Remember to mention the device and operating system version.', 'modified': '2020-02-13T20:56:28Z'}</td>\n",
       "    </tr>\n",
       "    <tr>\n",
       "      <th>27514</th>\n",
       "      <td>1</td>\n",
       "      <td>2021-06-20 06:53:21</td>\n",
       "      <td>So sad</td>\n",
       "      <td>True</td>\n",
       "      <td>I used to be able to track my mood without unlocking everything and now it’s you have to pay money to do that. I get that they need the money, but I don’t have the money to pay for it. It was nice to be able to at least track my mood. Now I’m sad. Update: the mood tracker came back but now it’s gone again and I can’t find it. I hate it when they change things so much, you can’t find anything and it just makes my stress… Update again: I found the mood tracker and it’s LOCKED. Now I can’t do ANYTHING without paying money…</td>\n",
       "      <td>NovellaRose</td>\n",
       "      <td>youper-self-guided-therapy</td>\n",
       "      <td>1060691513</td>\n",
       "      <td>{'id': 21621602, 'body': 'Hi, thanks for your feedback. You can still access mood tracking. To make the access easier you can favorite to track your mood.\\n\\nGo to Talk - Search - \"feeling\" - Click on the exercise - Click on the Heart icon to favorite\\n\\nTalk and Listen favorite exercises are available in the top filter \"My ❤\"', 'modified': '2021-03-12T21:39:04Z'}</td>\n",
       "    </tr>\n",
       "    <tr>\n",
       "      <th>27720</th>\n",
       "      <td>5</td>\n",
       "      <td>2020-10-03 22:03:25</td>\n",
       "      <td>self reflection helper</td>\n",
       "      <td>True</td>\n",
       "      <td>its so helpful to self reflect and see my own patterns of thought. it’s something that has helped me reach so many realizations about my mental health and wellbeing. my only wish is for OCD and eating disorder monitoring, but I trust that will come in time :)</td>\n",
       "      <td>hunnybeest</td>\n",
       "      <td>youper-self-guided-therapy</td>\n",
       "      <td>1060691513</td>\n",
       "      <td>{'id': 16936546, 'body': \"Thanks for your feedback!! It's great to know that Youper is providing the support you need! Take care!\", 'modified': '2020-07-28T19:18:37Z'}</td>\n",
       "    </tr>\n",
       "    <tr>\n",
       "      <th>28854</th>\n",
       "      <td>1</td>\n",
       "      <td>2020-05-07 23:10:40</td>\n",
       "      <td>Warn Against Use for Moderate to Severe Problems</td>\n",
       "      <td>True</td>\n",
       "      <td>Updated review:\\nI had a concerned previous review, I still recommend you read it. Now I’m downright concerned of the impact this app could have on a fragile or traumatized person.\\n\\nI recently and unexpectedly was domestically assaulted. As I have been, I logged it in Youper. I told the app I was depressed because I was assaulted by someone I previously trusted. \\n\\nThe app told me: “Is it possible that, sometimes, when confronted with personal failings you forget to be kind to yourself”\\n\\nI’m sorry but I can’t support an app that goes from a person talking about a personal assault to suggesting personal failings. Now I’d like to know what it would tell me if I’d been raped instead of assaulted. \\n\\nPlease, only use this app as a journal for when life ain’t too bad. The more the severe the situation, the more inappropriate this app is. Personally, I always have professional help as well. I’d be very worried about anyone who didn’t have professional support using this app for anything at all when it matters most.\\n\\nThanks devs for being responsive to my last review. I appreciate it. You need to find a way to improve this app before you hurt someone if you haven’t already.\\n\\nPrevious review:\\n\\nForced and Frustrating\\n\\nIt’s a well made app. But it forces you to say you like things or agree with things even if you don’t. Forcing lies isn’t great if you’re trying to be honest about your mental state and tracking it. It ends up feeling like cheap manipulation rather than help. \\n\\nThis amounts to a lot of frustration if you’re trying to use the app honestly. In some of my more difficult moments the app’s canned nudging “guidance” just made me feel worse and angrier for all its irrelevance and lacking representation.\\n\\nNow it’s promoting certain doctors and asking for donations. Made me offer to donate or ask for more information about donating when I wanted to wrap up my entry. I had to quit the app to get around it. \\n\\nAll in all would be a good app if it wasn’t so forced. The tests are good for tracking progress and reactions to life events. The word associations between feelings and parts of life are really good. \\n\\nThis app is of good quality but needs a lot of thoughtful work on improving it.</td>\n",
       "      <td>Lalanana</td>\n",
       "      <td>youper-self-guided-therapy</td>\n",
       "      <td>1060691513</td>\n",
       "      <td>{'id': 12668664, 'body': 'Thank you for your sincere feedback. We just added your suggestions to our improvements list. We’re working hard to make Youper the best assistant for you and we’re always adding new features based on your feedback. Keep checking the new updates. If you have any further questions, you can find answers to common questions on www.youper.ai/support', 'modified': '2019-12-31T21:07:53Z'}</td>\n",
       "    </tr>\n",
       "  </tbody>\n",
       "</table>\n",
       "<p>259 rows × 9 columns</p>\n",
       "</div>"
      ],
      "text/plain": [
       "       rating                 date  \\\n",
       "11          5  2021-02-10 13:08:43   \n",
       "20          5  2020-04-11 13:38:29   \n",
       "62          4  2021-05-18 03:27:09   \n",
       "249         5  2020-05-05 07:02:30   \n",
       "299         3  2020-07-24 14:28:38   \n",
       "...       ...                  ...   \n",
       "27421       5  2020-11-04 22:58:55   \n",
       "27496       5  2021-01-24 12:04:40   \n",
       "27514       1  2021-06-20 06:53:21   \n",
       "27720       5  2020-10-03 22:03:25   \n",
       "28854       1  2020-05-07 23:10:40   \n",
       "\n",
       "                                                  title  isEdited  \\\n",
       "11                                     High Recommend!!      True   \n",
       "20                                          Im confused      True   \n",
       "62                           Excellent Customer Service      True   \n",
       "249                                             Love it      True   \n",
       "299                Still no fix for toggling questions?      True   \n",
       "...                                                 ...       ...   \n",
       "27421                                            great!      True   \n",
       "27496                Love but doesn’t load all the time      True   \n",
       "27514                                            So sad      True   \n",
       "27720                            self reflection helper      True   \n",
       "28854  Warn Against Use for Moderate to Severe Problems      True   \n",
       "\n",
       "                                                                                                                                                                                                                                                                                                                                                                                                                                                                                                                                                                                                                                                                                                                                                                                                                                                                                                                                                                                                                                                                                                                                                                                                                                                                                                                                                                                                                                                                                                                                                                                                                                                                                                                                                                                                                                                                                                                                                                                                                                                                                                                                                                                                                                                                                                                                 review  \\\n",
       "11                                                                                                                                                                                                                                                                                                                                                                                                                                                                                                                                                                                                                                                                                                                                                                                                                                                                                                                                                                                                                                                                                                                                                                                                                                                                                                                                                                                                                                                                      I’ve written a couple app reviews for this app before, but I just want to put in that after using it for about three months now, I must say that stoic is quite a wonderful app! It gives you all sorts of options for things to do that really help my everyday mentality, like breathing excersize, meditations, and fear settings/thought excersize. A high recommend! I’d say my only issue with this app is probably that the morning routines are SO long. Honestly I don’t mind doing them, but I just wish there were options to choose the amount of questions asked. People are busy, not everyone has 30 minutes each morning to answer like 10 questions. Perhaps five or six? Also I like the meditation options they have, I only wish they had a few guided ones. That’s only a request, not a complaint though! My first point was a complaint.   \n",
       "20                                                                                                                                                                                                                                                                                                                                                                                                                                                                                                                                                                                                                                                                                                                                                                                                                                                                                                                                                                                                                                                                                                                                                                                                                                                                                                                                                                                                                                                                                                                                                                                         I’ve had it for one day and it’s already messing up. I like the app so far I really do but it is telling me that it’s still Thursday(yesterday) but today is Friday. It might be because I didn’t do my “evening routine but I did it today and still wouldn’t let me go to the next day. I’m confused and don’t know what to do, I tried deleting and re-downloading it but it didn’t work other than just giving me the same day and have to redo it over again. Someone help me please.\\nEdit: Never mind I got it to fix itself after quite a bit of time. I do really like the app so far after one day of use but yeah. But also thank you for the response that makes it much easier for me and now it’ll always be on the right day.   \n",
       "62                                                                                                                                                                                                                                                                                                                                                                                                                                                                                                                                                                                                                                                                                                                                                                                                                                                                                                                                                                                                                                                                                                                                                                                                                                                                                                                                                                                                                                                                                                                                                                                                                                                                                                                                When an issue arose (and the issue was mine alone), the developer responded immediately and assisted me greatly. In the event other incorrectly associate this site with anything related to Ryan Holiday, as I did, they are not connected. \\n\\nOne app bug I do wonder about is why the daily count randomly restarts at one. Also, thought it might be cool if there was a way to print the journals (perhaps even commercially or bound- all or as a selection). Perhaps you can and I’m just not great with tech. Anyway…. Thank you for the email and I am sorry for the incorrect association.   \n",
       "249                                                                                                                                                                                                                                                                                                                                                                                                                                                                                                                                                                                                                                                                                                                                                                                                                                                                                                                                                                                                                                                                                                                                                                                                                                                                                                                                                                                                                                                                                                                                                                                                                                                                                                                                                                                                                                                                                                                                                                                                                                                                      I’ve been using this for a while and it’s just a great mix of good habits.\\n\\nOne thing I’d love for the morning questions is the ability to add a free form question or something like: “What value do you aim to grow today?”.\\n\\nThanks for the great work!   \n",
       "299                                                                                                                                                                                                                                                                                                                                                                                                                                                                                                                                                                                                                                                                                                                                                                                                                                                                                                                                                                                                                                                                                                                                                                                                                                                                                                                                                                                                                                                                                                                                                                                                                                                                                                                                                                                                                                                                                                                                                                                                                                                                                                                                        I complained before about being unable to toggle off the questions without being prompted to subscribe. Was told there’d be a fix in the next update. At least two updates and still no fix?   \n",
       "...                                                                                                                                                                                                                                                                                                                                                                                                                                                                                                                                                                                                                                                                                                                                                                                                                                                                                                                                                                                                                                                                                                                                                                                                                                                                                                                                                                                                                                                                                                                                                                                                                                                                                                                                                                                                                                                                                                                                                                                                                                                                                                                                                                                                                                                                                                                                 ...   \n",
       "27421                                                                                                                                                                                                                                                                                                                                                                                                                                                                                                                                                                                                                                                                                                                                                                                                                                                                                                                                                                                                                                                                                                                                                                                                                                                                                                                                                                                                                                                                                                                                                                                                                                                                                                                                                                                                                                                                                                                             i LOVE this app it gives me the satisfaction that other apps like this haven’t. it’s so helpful and makes me feel as if i’ve talked with a real therapist. i just have one problem, there’s to many blocked thing because of premium. i don’t want to have to pay to be relaxed. why should you have to pay for an app that’s supposed to help you and make people happy? other than that its great!!   \n",
       "27496                                                                                                                                                                                                                                                                                                                                                                                                                                                                                                                                                                                                                                                                                                                                                                                                                                                                                                                                                                                                                                                                                                                                                                                                                                                                                                                                                                                                                                                                                                                                                                                                                                                                                                                                                                                                                                                                                                                                                                                                                  Update: they updated the app, it works when I need it. The recommendations have gotten better and more personal. I use this app all the time. \\n\\nI love this app. But half the time I go to use it and it never loads. Seems kind of backwards. If it loaded and opened when I needed it it would have 5 stars.   \n",
       "27514                                                                                                                                                                                                                                                                                                                                                                                                                                                                                                                                                                                                                                                                                                                                                                                                                                                                                                                                                                                                                                                                                                                                                                                                                                                                                                                                                                                                                                                                                                                                                                                                                                                                                                                                                                                     I used to be able to track my mood without unlocking everything and now it’s you have to pay money to do that. I get that they need the money, but I don’t have the money to pay for it. It was nice to be able to at least track my mood. Now I’m sad. Update: the mood tracker came back but now it’s gone again and I can’t find it. I hate it when they change things so much, you can’t find anything and it just makes my stress… Update again: I found the mood tracker and it’s LOCKED. Now I can’t do ANYTHING without paying money…   \n",
       "27720                                                                                                                                                                                                                                                                                                                                                                                                                                                                                                                                                                                                                                                                                                                                                                                                                                                                                                                                                                                                                                                                                                                                                                                                                                                                                                                                                                                                                                                                                                                                                                                                                                                                                                                                                                                                                                                                                                                                                                                                                                                               its so helpful to self reflect and see my own patterns of thought. it’s something that has helped me reach so many realizations about my mental health and wellbeing. my only wish is for OCD and eating disorder monitoring, but I trust that will come in time :)   \n",
       "28854  Updated review:\\nI had a concerned previous review, I still recommend you read it. Now I’m downright concerned of the impact this app could have on a fragile or traumatized person.\\n\\nI recently and unexpectedly was domestically assaulted. As I have been, I logged it in Youper. I told the app I was depressed because I was assaulted by someone I previously trusted. \\n\\nThe app told me: “Is it possible that, sometimes, when confronted with personal failings you forget to be kind to yourself”\\n\\nI’m sorry but I can’t support an app that goes from a person talking about a personal assault to suggesting personal failings. Now I’d like to know what it would tell me if I’d been raped instead of assaulted. \\n\\nPlease, only use this app as a journal for when life ain’t too bad. The more the severe the situation, the more inappropriate this app is. Personally, I always have professional help as well. I’d be very worried about anyone who didn’t have professional support using this app for anything at all when it matters most.\\n\\nThanks devs for being responsive to my last review. I appreciate it. You need to find a way to improve this app before you hurt someone if you haven’t already.\\n\\nPrevious review:\\n\\nForced and Frustrating\\n\\nIt’s a well made app. But it forces you to say you like things or agree with things even if you don’t. Forcing lies isn’t great if you’re trying to be honest about your mental state and tracking it. It ends up feeling like cheap manipulation rather than help. \\n\\nThis amounts to a lot of frustration if you’re trying to use the app honestly. In some of my more difficult moments the app’s canned nudging “guidance” just made me feel worse and angrier for all its irrelevance and lacking representation.\\n\\nNow it’s promoting certain doctors and asking for donations. Made me offer to donate or ask for more information about donating when I wanted to wrap up my entry. I had to quit the app to get around it. \\n\\nAll in all would be a good app if it wasn’t so forced. The tests are good for tracking progress and reactions to life events. The word associations between feelings and parts of life are really good. \\n\\nThis app is of good quality but needs a lot of thoughtful work on improving it.   \n",
       "\n",
       "                   userName                    app_name      app_id  \\\n",
       "11                Raimabird                       stoic  1312926037   \n",
       "20              wolfgirl💙🌑🐺                       stoic  1312926037   \n",
       "62             Mark50998926                       stoic  1312926037   \n",
       "249            porcoesphino                       stoic  1312926037   \n",
       "299    AllTheNicksWereTaken                       stoic  1312926037   \n",
       "...                     ...                         ...         ...   \n",
       "27421          Madison M V.  youper-self-guided-therapy  1060691513   \n",
       "27496             Jenni RRT  youper-self-guided-therapy  1060691513   \n",
       "27514           NovellaRose  youper-self-guided-therapy  1060691513   \n",
       "27720            hunnybeest  youper-self-guided-therapy  1060691513   \n",
       "28854              Lalanana  youper-self-guided-therapy  1060691513   \n",
       "\n",
       "                                                                                                                                                                                                                                                                                                                                                                                                                                                             developerResponse  \n",
       "11                                                                                                                                                                                                                                                                                                           {'id': 20357398, 'body': 'could you check what hour you have in ‚your profile’ -> personalize -> start day at?\\n\\nbest,\\nm.', 'modified': '2021-01-12T22:23:35Z'}  \n",
       "20                                                                                                                                                                                                                                                                                  {'id': 14596171, 'body': 'hey,\\n\\nmy apologies for your trouble. could you open ‘you tab’ -> personalize day -> day start -> pick 12am?\\n\\nbest,\\nm.', 'modified': '2020-04-10T19:52:32Z'}  \n",
       "62                                                                                                                                                                                                                                                                    {'id': 22856122, 'body': 'hej Mark,\\n\\nwe are not associated with mr. Holiday in any way (besides the fact that i personally admire his work)\\n\\nbest,\\nmaciej\\n\\n', 'modified': '2021-05-17T15:50:36Z'}  \n",
       "249                                                                                                                                                                                                   {'id': 12623477, 'body': 'uh, you are right, there was a bug. thank you for letting me know.\\n\\ngood idea about the ‘nature 🌱’ tag. let me know if you have in mind more improvements, happy to implement them :)\\n\\nbest,\\nmaciej', 'modified': '2019-12-28T10:20:49Z'}  \n",
       "299    {'id': 16666136, 'body': 'woops, my mistake. you should be able to turn off questions without a premium sub.\\nmy apologies, we will fix that in the next update.\\n\\nm.\\n\\n—\\n\\nyeah, my apologies. i understood from your previous message that we have a bug when toggling the switch.\\nbut the fact that you can see the premium wall there is not a bug. the basic options of the app are free, personalization is paid.\\n\\nm.', 'modified': '2020-07-16T08:21:20Z'}  \n",
       "...                                                                                                                                                                                                                                                                                                                                                                                                                                                                        ...  \n",
       "27421                           {'id': 17129276, 'body': 'Hello Madison! Thank you for your positive feedback! We are pleased that you are satisfied with the application! We do our best to keep a useful set of tools free for users who are unable to subscribe, but ultimately, our subscription prices allow us to continue growing the AI capabilities and tools. Feel free to send any questions or feedback to youper.ai/support', 'modified': '2020-08-06T21:07:23Z'}  \n",
       "27496                                                       {'id': 13474003, 'body': 'Thanks for bringing this to our attention. Your comments are very helpful to us as we are always working to improve Youper and get rid of those annoying bugs ;-). Please access https://www.youper.ai/request to give us more details so we can have this fixed as soon as possible. Remember to mention the device and operating system version.', 'modified': '2020-02-13T20:56:28Z'}  \n",
       "27514                                                                                           {'id': 21621602, 'body': 'Hi, thanks for your feedback. You can still access mood tracking. To make the access easier you can favorite to track your mood.\\n\\nGo to Talk - Search - \"feeling\" - Click on the exercise - Click on the Heart icon to favorite\\n\\nTalk and Listen favorite exercises are available in the top filter \"My ❤\"', 'modified': '2021-03-12T21:39:04Z'}  \n",
       "27720                                                                                                                                                                                                                                                                                                  {'id': 16936546, 'body': \"Thanks for your feedback!! It's great to know that Youper is providing the support you need! Take care!\", 'modified': '2020-07-28T19:18:37Z'}  \n",
       "28854                                              {'id': 12668664, 'body': 'Thank you for your sincere feedback. We just added your suggestions to our improvements list. We’re working hard to make Youper the best assistant for you and we’re always adding new features based on your feedback. Keep checking the new updates. If you have any further questions, you can find answers to common questions on www.youper.ai/support', 'modified': '2019-12-31T21:07:53Z'}  \n",
       "\n",
       "[259 rows x 9 columns]"
      ]
     },
     "execution_count": 53,
     "metadata": {},
     "output_type": "execute_result"
    }
   ],
   "source": [
    "df[df['isEdited']==True]"
   ]
  },
  {
   "cell_type": "code",
   "execution_count": 56,
   "metadata": {
    "ExecuteTime": {
     "end_time": "2021-07-05T07:45:24.391497Z",
     "start_time": "2021-07-05T07:45:24.384289Z"
    }
   },
   "outputs": [
    {
     "data": {
      "text/plain": [
       "5    0.691954\n",
       "1    0.112117\n",
       "4    0.098846\n",
       "3    0.056162\n",
       "2    0.040921\n",
       "Name: rating, dtype: float64"
      ]
     },
     "execution_count": 56,
     "metadata": {},
     "output_type": "execute_result"
    }
   ],
   "source": [
    "df['rating'].value_counts(normalize=True)"
   ]
  },
  {
   "cell_type": "code",
   "execution_count": 57,
   "metadata": {
    "ExecuteTime": {
     "end_time": "2021-07-05T07:47:56.738774Z",
     "start_time": "2021-07-05T07:47:56.732275Z"
    }
   },
   "outputs": [
    {
     "data": {
      "text/plain": [
       "False    0.991049\n",
       "True     0.008951\n",
       "Name: isEdited, dtype: float64"
      ]
     },
     "execution_count": 57,
     "metadata": {},
     "output_type": "execute_result"
    }
   ],
   "source": [
    "df['isEdited'].value_counts(normalize=True)"
   ]
  },
  {
   "cell_type": "code",
   "execution_count": 58,
   "metadata": {
    "ExecuteTime": {
     "end_time": "2021-07-05T07:48:25.050903Z",
     "start_time": "2021-07-05T07:48:25.041660Z"
    }
   },
   "outputs": [
    {
     "data": {
      "text/plain": [
       "fabulous-daily-routine-planner    0.173187\n",
       "reflectly-journal-ai-diary        0.172911\n",
       "calm                              0.172842\n",
       "headspace-meditation-sleep        0.105827\n",
       "insight-timer-meditation-app      0.103684\n",
       "youper-self-guided-therapy        0.057787\n",
       "talkspace-therapy-counseling      0.031797\n",
       "ten-percent-happier-meditation    0.031382\n",
       "slumber-fall-asleep-insomnia      0.023986\n",
       "sanvello-anxiety-depression       0.019735\n",
       "stoic                             0.019009\n",
       "breethe-meditation-sleep          0.018801\n",
       "shine-calm-anxiety-stress         0.015622\n",
       "minddoc-your-companion            0.014619\n",
       "betterme-calm-sleep-meditate      0.006912\n",
       "meditopia-meditation-breathe      0.006117\n",
       "relax-meditation-guided-mind      0.005184\n",
       "rootd-panic-attack-relief         0.005046\n",
       "moodfit                           0.002938\n",
       "pzizz-sleep-nap-focus             0.002730\n",
       "mindshift-cbt-anxiety-relief      0.002454\n",
       "smiling-mind                      0.002281\n",
       "happify-for-stress-worry          0.001279\n",
       "mindfulness-with-petit-bambou     0.000933\n",
       "whats-up-a-mental-health-app      0.000795\n",
       "noisli                            0.000691\n",
       "breathe2relax                     0.000657\n",
       "cbt-i-coach                       0.000449\n",
       "moodtools-depression-aid          0.000207\n",
       "moodmission                       0.000069\n",
       "innerhour-self-care-therapy       0.000069\n",
       "Name: app_name, dtype: float64"
      ]
     },
     "execution_count": 58,
     "metadata": {},
     "output_type": "execute_result"
    }
   ],
   "source": [
    "df['app_name'].value_counts(normalize=True)"
   ]
  },
  {
   "cell_type": "code",
   "execution_count": 63,
   "metadata": {
    "ExecuteTime": {
     "end_time": "2021-07-05T07:51:54.283155Z",
     "start_time": "2021-07-05T07:51:54.254882Z"
    }
   },
   "outputs": [
    {
     "data": {
      "text/html": [
       "<div>\n",
       "<style scoped>\n",
       "    .dataframe tbody tr th:only-of-type {\n",
       "        vertical-align: middle;\n",
       "    }\n",
       "\n",
       "    .dataframe tbody tr th {\n",
       "        vertical-align: top;\n",
       "    }\n",
       "\n",
       "    .dataframe thead th {\n",
       "        text-align: right;\n",
       "    }\n",
       "</style>\n",
       "<table border=\"1\" class=\"dataframe\">\n",
       "  <thead>\n",
       "    <tr style=\"text-align: right;\">\n",
       "      <th></th>\n",
       "      <th>rating</th>\n",
       "      <th>date</th>\n",
       "      <th>title</th>\n",
       "      <th>isEdited</th>\n",
       "      <th>review</th>\n",
       "      <th>userName</th>\n",
       "      <th>app_name</th>\n",
       "      <th>app_id</th>\n",
       "      <th>developerResponse</th>\n",
       "    </tr>\n",
       "  </thead>\n",
       "  <tbody>\n",
       "    <tr>\n",
       "      <th>9</th>\n",
       "      <td>5</td>\n",
       "      <td>2021-01-25 20:15:12</td>\n",
       "      <td>Absolutely Incredible - Better than Others</td>\n",
       "      <td>False</td>\n",
       "      <td>Absolutely incredible. The focus breathing, the journaling, and the adaptability to each user. I have never seen such an app before. I have downloaded over 20 journaling apps, but I eventually always delete the app because I forget to journal because the app doesn’t help me. Now, this journaling app is incredible. I write 3-5 times a day and use its focus breathing exercises so much. This is the only app I want to actually support with money even though I am a stingy person.\\n\\n——\\n\\nUpdate: I do dislike the new feature where it asks you to think negatively to become grateful without being able to decline like last update. For those who are suffering depression, anxiety, and other mental issues, this is a big black hole that one can go into. I plead the developers to lock this feature away by being able to decline before the app asks you that question.</td>\n",
       "      <td>NemoTheCat</td>\n",
       "      <td>stoic</td>\n",
       "      <td>1312926037</td>\n",
       "      <td>{'id': 20686361, 'body': 'hey,\\n\\ncould you please ping me at m@stoicroutine.com so we could find the issue with forcing negative visualization? \\n\\nthere should be an option to skip it but i worry we messed it up.\\n\\nbest,\\nmaciej', 'modified': '2021-01-27T12:52:23Z'}</td>\n",
       "    </tr>\n",
       "    <tr>\n",
       "      <th>11</th>\n",
       "      <td>5</td>\n",
       "      <td>2021-02-10 13:08:43</td>\n",
       "      <td>High Recommend!!</td>\n",
       "      <td>True</td>\n",
       "      <td>I’ve written a couple app reviews for this app before, but I just want to put in that after using it for about three months now, I must say that stoic is quite a wonderful app! It gives you all sorts of options for things to do that really help my everyday mentality, like breathing excersize, meditations, and fear settings/thought excersize. A high recommend! I’d say my only issue with this app is probably that the morning routines are SO long. Honestly I don’t mind doing them, but I just wish there were options to choose the amount of questions asked. People are busy, not everyone has 30 minutes each morning to answer like 10 questions. Perhaps five or six? Also I like the meditation options they have, I only wish they had a few guided ones. That’s only a request, not a complaint though! My first point was a complaint.</td>\n",
       "      <td>Raimabird</td>\n",
       "      <td>stoic</td>\n",
       "      <td>1312926037</td>\n",
       "      <td>{'id': 20357398, 'body': 'could you check what hour you have in ‚your profile’ -&gt; personalize -&gt; start day at?\\n\\nbest,\\nm.', 'modified': '2021-01-12T22:23:35Z'}</td>\n",
       "    </tr>\n",
       "    <tr>\n",
       "      <th>20</th>\n",
       "      <td>5</td>\n",
       "      <td>2020-04-11 13:38:29</td>\n",
       "      <td>Im confused</td>\n",
       "      <td>True</td>\n",
       "      <td>I’ve had it for one day and it’s already messing up. I like the app so far I really do but it is telling me that it’s still Thursday(yesterday) but today is Friday. It might be because I didn’t do my “evening routine but I did it today and still wouldn’t let me go to the next day. I’m confused and don’t know what to do, I tried deleting and re-downloading it but it didn’t work other than just giving me the same day and have to redo it over again. Someone help me please.\\nEdit: Never mind I got it to fix itself after quite a bit of time. I do really like the app so far after one day of use but yeah. But also thank you for the response that makes it much easier for me and now it’ll always be on the right day.</td>\n",
       "      <td>wolfgirl💙🌑🐺</td>\n",
       "      <td>stoic</td>\n",
       "      <td>1312926037</td>\n",
       "      <td>{'id': 14596171, 'body': 'hey,\\n\\nmy apologies for your trouble. could you open ‘you tab’ -&gt; personalize day -&gt; day start -&gt; pick 12am?\\n\\nbest,\\nm.', 'modified': '2020-04-10T19:52:32Z'}</td>\n",
       "    </tr>\n",
       "    <tr>\n",
       "      <th>43</th>\n",
       "      <td>1</td>\n",
       "      <td>2020-01-20 19:32:37</td>\n",
       "      <td>Subscription based app masquerading as freemium.</td>\n",
       "      <td>False</td>\n",
       "      <td>I thought I’d give stoic a try. It sounded interesting. Unfortunately there is no free version (despite setup telling you that you can unlock all the features - implying an unlocked subset). You can get a seven day trial which automatically converts to withdrawing funds from your account. \\n\\nI have a brain injury that causes me not to function well, and I’ve learned not to allow these (through trial and mostly error) as I will forget about the app, forget when I downloaded it if I do remember, and/or forget to cancel if I’m not getting value. Therefore, I have no way to evaluate the app, even though it may be beneficial for me....\\n\\nAdditionally, the subscription model, while a great way to fund continued development, is extremely limiting for those of us with limited income due to disability.</td>\n",
       "      <td>BenjPhoto</td>\n",
       "      <td>stoic</td>\n",
       "      <td>1312926037</td>\n",
       "      <td>{'id': 13029866, 'body': 'hi.\\n\\njust use the app without a subscription :) there is a free version, and it won’t limit the functionalities.\\n\\nbest,\\nm.', 'modified': '2020-01-21T05:20:34Z'}</td>\n",
       "    </tr>\n",
       "    <tr>\n",
       "      <th>58</th>\n",
       "      <td>3</td>\n",
       "      <td>2021-01-28 00:33:31</td>\n",
       "      <td>Used to have more options</td>\n",
       "      <td>False</td>\n",
       "      <td>When I first downloaded this app I loved it! It provided a variety of options to cope with my emotions on a day to day basis and I loved the different journal templates to start a journaling session and the way it would use stoicism &amp; thinking trap meditations to help me through especially rough days. However, there must’ve been an update because I no longer have access to the wide range of journal prompts and the ones I do have layer on top of one another instead of allowing for a “at your own pace” kind of app. I’m not sure if I’m ready to abandon ship yet, but I definitely am not getting out of it what I used to.</td>\n",
       "      <td>Peacify</td>\n",
       "      <td>stoic</td>\n",
       "      <td>1312926037</td>\n",
       "      <td>{'id': 20751864, 'body': 'hmm interesting. we have only moved guided journals to a different place (main today view -&gt; journal).\\n\\nthis change will give us space to create even more guided experiences :) previous scroll inside journaling was kind of clunky.\\n\\nbest,\\nm.', 'modified': '2021-01-30T22:22:34Z'}</td>\n",
       "    </tr>\n",
       "    <tr>\n",
       "      <th>...</th>\n",
       "      <td>...</td>\n",
       "      <td>...</td>\n",
       "      <td>...</td>\n",
       "      <td>...</td>\n",
       "      <td>...</td>\n",
       "      <td>...</td>\n",
       "      <td>...</td>\n",
       "      <td>...</td>\n",
       "      <td>...</td>\n",
       "    </tr>\n",
       "    <tr>\n",
       "      <th>28910</th>\n",
       "      <td>5</td>\n",
       "      <td>2021-06-08 09:47:36</td>\n",
       "      <td>Skeptic turned fan</td>\n",
       "      <td>False</td>\n",
       "      <td>I had gotten progressively open to trying out the whole meditation thing. I downloaded a couple of apps and ended up feeling like a dummy, which I was, I just didn’t want to acknowledge it I guess. Petit bambou gave me the space to try toe-dipping then wading in it and eventually sneaking off to go full on swimming with backstrokes et al in it. How did I become this addicted? Lawd !</td>\n",
       "      <td>Yo-Ed</td>\n",
       "      <td>mindfulness-with-petit-bambou</td>\n",
       "      <td>941222646</td>\n",
       "      <td>{'id': 23326269, 'body': \"Hi ! Thank you so much for sharing with us your experience with Petit BamBou. We're so proud to be able to accompany you on your meditation journey... Our goal is to make this awesome tool that is meditation, accessible to everyone. It's truly amazing to read that it worked for you. Don't hesitate to get in touch with us if you have any question : help@petitbambou.com :) \", 'modified': '2021-06-11T09:50:18Z'}</td>\n",
       "    </tr>\n",
       "    <tr>\n",
       "      <th>28916</th>\n",
       "      <td>5</td>\n",
       "      <td>2020-05-12 02:03:40</td>\n",
       "      <td>Great app to relax</td>\n",
       "      <td>False</td>\n",
       "      <td>I listened to the méditations and they were great and relaxing . The voice was soothing and the message was passed  Another feature was the sounds I loved them specifically under the water</td>\n",
       "      <td>cbennus</td>\n",
       "      <td>mindfulness-with-petit-bambou</td>\n",
       "      <td>941222646</td>\n",
       "      <td>{'id': 15729431, 'body': 'Great to hear that you not only like the meditations, but also the sounds! All the best to you! :-)', 'modified': '2020-06-02T14:27:42Z'}</td>\n",
       "    </tr>\n",
       "    <tr>\n",
       "      <th>28917</th>\n",
       "      <td>5</td>\n",
       "      <td>2020-02-18 14:22:16</td>\n",
       "      <td>Indispensable!!</td>\n",
       "      <td>False</td>\n",
       "      <td>Very good and clear design application that guides you into very interesting meditations. Available in many languages, this meditation app offers the best of the best, in many ways.</td>\n",
       "      <td>Diamond SkyWest</td>\n",
       "      <td>mindfulness-with-petit-bambou</td>\n",
       "      <td>941222646</td>\n",
       "      <td>{'id': 13662836, 'body': \"Wow - we're proud to hear that, thank you! Wishing you all the best and happy meditating!\", 'modified': '2020-02-24T09:32:41Z'}</td>\n",
       "    </tr>\n",
       "    <tr>\n",
       "      <th>28920</th>\n",
       "      <td>5</td>\n",
       "      <td>2020-05-28 21:54:37</td>\n",
       "      <td>Great App!</td>\n",
       "      <td>False</td>\n",
       "      <td>I highly recommend this app!  I like the analogies and the lessons.  It has helped me already and I’m looking forward to future lessons.  Thanks, BamBou! :)</td>\n",
       "      <td>Chati 11</td>\n",
       "      <td>mindfulness-with-petit-bambou</td>\n",
       "      <td>941222646</td>\n",
       "      <td>{'id': 15729394, 'body': \"You're very welcome and we're really happy to hear that! Wishing you all the best!\", 'modified': '2020-06-02T14:26:34Z'}</td>\n",
       "    </tr>\n",
       "    <tr>\n",
       "      <th>28925</th>\n",
       "      <td>5</td>\n",
       "      <td>2020-07-21 12:00:20</td>\n",
       "      <td>Just what I needed</td>\n",
       "      <td>False</td>\n",
       "      <td>Easy to use- easy to\\nFollow- a strong way for me to get introduced properly to meditation. \\n\\nHave fun!</td>\n",
       "      <td>Mio Dad</td>\n",
       "      <td>mindfulness-with-petit-bambou</td>\n",
       "      <td>941222646</td>\n",
       "      <td>{'id': 17318684, 'body': \"That's lovely to hear :-) Wishing you pleasant meditations!\", 'modified': '2020-08-17T07:55:45Z'}</td>\n",
       "    </tr>\n",
       "  </tbody>\n",
       "</table>\n",
       "<p>4182 rows × 9 columns</p>\n",
       "</div>"
      ],
      "text/plain": [
       "       rating                 date  \\\n",
       "9           5  2021-01-25 20:15:12   \n",
       "11          5  2021-02-10 13:08:43   \n",
       "20          5  2020-04-11 13:38:29   \n",
       "43          1  2020-01-20 19:32:37   \n",
       "58          3  2021-01-28 00:33:31   \n",
       "...       ...                  ...   \n",
       "28910       5  2021-06-08 09:47:36   \n",
       "28916       5  2020-05-12 02:03:40   \n",
       "28917       5  2020-02-18 14:22:16   \n",
       "28920       5  2020-05-28 21:54:37   \n",
       "28925       5  2020-07-21 12:00:20   \n",
       "\n",
       "                                                  title  isEdited  \\\n",
       "9            Absolutely Incredible - Better than Others     False   \n",
       "11                                     High Recommend!!      True   \n",
       "20                                          Im confused      True   \n",
       "43     Subscription based app masquerading as freemium.     False   \n",
       "58                            Used to have more options     False   \n",
       "...                                                 ...       ...   \n",
       "28910                                Skeptic turned fan     False   \n",
       "28916                                Great app to relax     False   \n",
       "28917                                   Indispensable!!     False   \n",
       "28920                                        Great App!     False   \n",
       "28925                                Just what I needed     False   \n",
       "\n",
       "                                                                                                                                                                                                                                                                                                                                                                                                                                                                                                                                                                                                                                                                                                                                                                                                                                                                                                 review  \\\n",
       "9      Absolutely incredible. The focus breathing, the journaling, and the adaptability to each user. I have never seen such an app before. I have downloaded over 20 journaling apps, but I eventually always delete the app because I forget to journal because the app doesn’t help me. Now, this journaling app is incredible. I write 3-5 times a day and use its focus breathing exercises so much. This is the only app I want to actually support with money even though I am a stingy person.\\n\\n——\\n\\nUpdate: I do dislike the new feature where it asks you to think negatively to become grateful without being able to decline like last update. For those who are suffering depression, anxiety, and other mental issues, this is a big black hole that one can go into. I plead the developers to lock this feature away by being able to decline before the app asks you that question.   \n",
       "11                                      I’ve written a couple app reviews for this app before, but I just want to put in that after using it for about three months now, I must say that stoic is quite a wonderful app! It gives you all sorts of options for things to do that really help my everyday mentality, like breathing excersize, meditations, and fear settings/thought excersize. A high recommend! I’d say my only issue with this app is probably that the morning routines are SO long. Honestly I don’t mind doing them, but I just wish there were options to choose the amount of questions asked. People are busy, not everyone has 30 minutes each morning to answer like 10 questions. Perhaps five or six? Also I like the meditation options they have, I only wish they had a few guided ones. That’s only a request, not a complaint though! My first point was a complaint.   \n",
       "20                                                                                                                                                         I’ve had it for one day and it’s already messing up. I like the app so far I really do but it is telling me that it’s still Thursday(yesterday) but today is Friday. It might be because I didn’t do my “evening routine but I did it today and still wouldn’t let me go to the next day. I’m confused and don’t know what to do, I tried deleting and re-downloading it but it didn’t work other than just giving me the same day and have to redo it over again. Someone help me please.\\nEdit: Never mind I got it to fix itself after quite a bit of time. I do really like the app so far after one day of use but yeah. But also thank you for the response that makes it much easier for me and now it’ll always be on the right day.   \n",
       "43                                                               I thought I’d give stoic a try. It sounded interesting. Unfortunately there is no free version (despite setup telling you that you can unlock all the features - implying an unlocked subset). You can get a seven day trial which automatically converts to withdrawing funds from your account. \\n\\nI have a brain injury that causes me not to function well, and I’ve learned not to allow these (through trial and mostly error) as I will forget about the app, forget when I downloaded it if I do remember, and/or forget to cancel if I’m not getting value. Therefore, I have no way to evaluate the app, even though it may be beneficial for me....\\n\\nAdditionally, the subscription model, while a great way to fund continued development, is extremely limiting for those of us with limited income due to disability.   \n",
       "58                                                                                                                                                                                                                                                      When I first downloaded this app I loved it! It provided a variety of options to cope with my emotions on a day to day basis and I loved the different journal templates to start a journaling session and the way it would use stoicism & thinking trap meditations to help me through especially rough days. However, there must’ve been an update because I no longer have access to the wide range of journal prompts and the ones I do have layer on top of one another instead of allowing for a “at your own pace” kind of app. I’m not sure if I’m ready to abandon ship yet, but I definitely am not getting out of it what I used to.   \n",
       "...                                                                                                                                                                                                                                                                                                                                                                                                                                                                                                                                                                                                                                                                                                                                                                                                                                                                                                 ...   \n",
       "28910                                                                                                                                                                                                                                                                                                                                                                                                                                                                                                 I had gotten progressively open to trying out the whole meditation thing. I downloaded a couple of apps and ended up feeling like a dummy, which I was, I just didn’t want to acknowledge it I guess. Petit bambou gave me the space to try toe-dipping then wading in it and eventually sneaking off to go full on swimming with backstrokes et al in it. How did I become this addicted? Lawd !   \n",
       "28916                                                                                                                                                                                                                                                                                                                                                                                                                                                                                                                                                                                                                                                                                                      I listened to the méditations and they were great and relaxing . The voice was soothing and the message was passed  Another feature was the sounds I loved them specifically under the water   \n",
       "28917                                                                                                                                                                                                                                                                                                                                                                                                                                                                                                                                                                                                                                                                                                             Very good and clear design application that guides you into very interesting meditations. Available in many languages, this meditation app offers the best of the best, in many ways.   \n",
       "28920                                                                                                                                                                                                                                                                                                                                                                                                                                                                                                                                                                                                                                                                                                                                      I highly recommend this app!  I like the analogies and the lessons.  It has helped me already and I’m looking forward to future lessons.  Thanks, BamBou! :)   \n",
       "28925                                                                                                                                                                                                                                                                                                                                                                                                                                                                                                                                                                                                                                                                                                                                                                                         Easy to use- easy to\\nFollow- a strong way for me to get introduced properly to meditation. \\n\\nHave fun!   \n",
       "\n",
       "              userName                       app_name      app_id  \\\n",
       "9           NemoTheCat                          stoic  1312926037   \n",
       "11           Raimabird                          stoic  1312926037   \n",
       "20         wolfgirl💙🌑🐺                          stoic  1312926037   \n",
       "43           BenjPhoto                          stoic  1312926037   \n",
       "58             Peacify                          stoic  1312926037   \n",
       "...                ...                            ...         ...   \n",
       "28910            Yo-Ed  mindfulness-with-petit-bambou   941222646   \n",
       "28916          cbennus  mindfulness-with-petit-bambou   941222646   \n",
       "28917  Diamond SkyWest  mindfulness-with-petit-bambou   941222646   \n",
       "28920         Chati 11  mindfulness-with-petit-bambou   941222646   \n",
       "28925          Mio Dad  mindfulness-with-petit-bambou   941222646   \n",
       "\n",
       "                                                                                                                                                                                                                                                                                                                                                                                                                                            developerResponse  \n",
       "9                                                                                                                                                                               {'id': 20686361, 'body': 'hey,\\n\\ncould you please ping me at m@stoicroutine.com so we could find the issue with forcing negative visualization? \\n\\nthere should be an option to skip it but i worry we messed it up.\\n\\nbest,\\nmaciej', 'modified': '2021-01-27T12:52:23Z'}  \n",
       "11                                                                                                                                                                                                                                                                                          {'id': 20357398, 'body': 'could you check what hour you have in ‚your profile’ -> personalize -> start day at?\\n\\nbest,\\nm.', 'modified': '2021-01-12T22:23:35Z'}  \n",
       "20                                                                                                                                                                                                                                                                 {'id': 14596171, 'body': 'hey,\\n\\nmy apologies for your trouble. could you open ‘you tab’ -> personalize day -> day start -> pick 12am?\\n\\nbest,\\nm.', 'modified': '2020-04-10T19:52:32Z'}  \n",
       "43                                                                                                                                                                                                                                                            {'id': 13029866, 'body': 'hi.\\n\\njust use the app without a subscription :) there is a free version, and it won’t limit the functionalities.\\n\\nbest,\\nm.', 'modified': '2020-01-21T05:20:34Z'}  \n",
       "58                                                                                                                                      {'id': 20751864, 'body': 'hmm interesting. we have only moved guided journals to a different place (main today view -> journal).\\n\\nthis change will give us space to create even more guided experiences :) previous scroll inside journaling was kind of clunky.\\n\\nbest,\\nm.', 'modified': '2021-01-30T22:22:34Z'}  \n",
       "...                                                                                                                                                                                                                                                                                                                                                                                                                                                       ...  \n",
       "28910  {'id': 23326269, 'body': \"Hi ! Thank you so much for sharing with us your experience with Petit BamBou. We're so proud to be able to accompany you on your meditation journey... Our goal is to make this awesome tool that is meditation, accessible to everyone. It's truly amazing to read that it worked for you. Don't hesitate to get in touch with us if you have any question : help@petitbambou.com :) \", 'modified': '2021-06-11T09:50:18Z'}  \n",
       "28916                                                                                                                                                                                                                                                                                     {'id': 15729431, 'body': 'Great to hear that you not only like the meditations, but also the sounds! All the best to you! :-)', 'modified': '2020-06-02T14:27:42Z'}  \n",
       "28917                                                                                                                                                                                                                                                                                               {'id': 13662836, 'body': \"Wow - we're proud to hear that, thank you! Wishing you all the best and happy meditating!\", 'modified': '2020-02-24T09:32:41Z'}  \n",
       "28920                                                                                                                                                                                                                                                                                                      {'id': 15729394, 'body': \"You're very welcome and we're really happy to hear that! Wishing you all the best!\", 'modified': '2020-06-02T14:26:34Z'}  \n",
       "28925                                                                                                                                                                                                                                                                                                                             {'id': 17318684, 'body': \"That's lovely to hear :-) Wishing you pleasant meditations!\", 'modified': '2020-08-17T07:55:45Z'}  \n",
       "\n",
       "[4182 rows x 9 columns]"
      ]
     },
     "execution_count": 63,
     "metadata": {},
     "output_type": "execute_result"
    }
   ],
   "source": [
    "df[df['developerResponse'].isna()==False]"
   ]
  },
  {
   "cell_type": "code",
   "execution_count": 66,
   "metadata": {
    "ExecuteTime": {
     "end_time": "2021-07-05T08:16:59.356899Z",
     "start_time": "2021-07-05T08:16:59.254780Z"
    }
   },
   "outputs": [
    {
     "data": {
      "text/html": [
       "<div>\n",
       "<style scoped>\n",
       "    .dataframe tbody tr th:only-of-type {\n",
       "        vertical-align: middle;\n",
       "    }\n",
       "\n",
       "    .dataframe tbody tr th {\n",
       "        vertical-align: top;\n",
       "    }\n",
       "\n",
       "    .dataframe thead th {\n",
       "        text-align: right;\n",
       "    }\n",
       "</style>\n",
       "<table border=\"1\" class=\"dataframe\">\n",
       "  <thead>\n",
       "    <tr style=\"text-align: right;\">\n",
       "      <th></th>\n",
       "      <th>rating</th>\n",
       "      <th>date</th>\n",
       "      <th>title</th>\n",
       "      <th>isEdited</th>\n",
       "      <th>review</th>\n",
       "      <th>userName</th>\n",
       "      <th>app_name</th>\n",
       "      <th>app_id</th>\n",
       "      <th>developerResponse</th>\n",
       "    </tr>\n",
       "  </thead>\n",
       "  <tbody>\n",
       "    <tr>\n",
       "      <th>24872</th>\n",
       "      <td>5</td>\n",
       "      <td>2020-03-03 17:19:53</td>\n",
       "      <td>Good karma</td>\n",
       "      <td>False</td>\n",
       "      <td>Good karma</td>\n",
       "      <td>raj2ray</td>\n",
       "      <td>insight-timer-meditation-app</td>\n",
       "      <td>337472899</td>\n",
       "      <td>NaN</td>\n",
       "    </tr>\n",
       "    <tr>\n",
       "      <th>24880</th>\n",
       "      <td>5</td>\n",
       "      <td>2021-04-16 17:11:10</td>\n",
       "      <td>Majestuoso</td>\n",
       "      <td>False</td>\n",
       "      <td>Agradecida</td>\n",
       "      <td>samagandu</td>\n",
       "      <td>insight-timer-meditation-app</td>\n",
       "      <td>337472899</td>\n",
       "      <td>NaN</td>\n",
       "    </tr>\n",
       "    <tr>\n",
       "      <th>24897</th>\n",
       "      <td>5</td>\n",
       "      <td>2021-04-16 17:11:10</td>\n",
       "      <td>Majestuoso</td>\n",
       "      <td>False</td>\n",
       "      <td>Agradecida</td>\n",
       "      <td>samagandu</td>\n",
       "      <td>insight-timer-meditation-app</td>\n",
       "      <td>337472899</td>\n",
       "      <td>NaN</td>\n",
       "    </tr>\n",
       "    <tr>\n",
       "      <th>24918</th>\n",
       "      <td>5</td>\n",
       "      <td>2020-03-03 17:19:53</td>\n",
       "      <td>Good karma</td>\n",
       "      <td>False</td>\n",
       "      <td>Good karma</td>\n",
       "      <td>raj2ray</td>\n",
       "      <td>insight-timer-meditation-app</td>\n",
       "      <td>337472899</td>\n",
       "      <td>NaN</td>\n",
       "    </tr>\n",
       "  </tbody>\n",
       "</table>\n",
       "</div>"
      ],
      "text/plain": [
       "       rating                 date       title  isEdited      review  \\\n",
       "24872       5  2020-03-03 17:19:53  Good karma     False  Good karma   \n",
       "24880       5  2021-04-16 17:11:10  Majestuoso     False  Agradecida   \n",
       "24897       5  2021-04-16 17:11:10  Majestuoso     False  Agradecida   \n",
       "24918       5  2020-03-03 17:19:53  Good karma     False  Good karma   \n",
       "\n",
       "        userName                      app_name     app_id developerResponse  \n",
       "24872    raj2ray  insight-timer-meditation-app  337472899               NaN  \n",
       "24880  samagandu  insight-timer-meditation-app  337472899               NaN  \n",
       "24897  samagandu  insight-timer-meditation-app  337472899               NaN  \n",
       "24918    raj2ray  insight-timer-meditation-app  337472899               NaN  "
      ]
     },
     "execution_count": 66,
     "metadata": {},
     "output_type": "execute_result"
    }
   ],
   "source": [
    "df[df.duplicated(keep=False)]"
   ]
  },
  {
   "cell_type": "code",
   "execution_count": 83,
   "metadata": {
    "ExecuteTime": {
     "end_time": "2021-07-05T10:26:30.739322Z",
     "start_time": "2021-07-05T10:26:30.646879Z"
    }
   },
   "outputs": [],
   "source": [
    "df = df.drop_duplicates()"
   ]
  },
  {
   "cell_type": "code",
   "execution_count": 84,
   "metadata": {
    "ExecuteTime": {
     "end_time": "2021-07-05T10:26:34.246938Z",
     "start_time": "2021-07-05T10:26:34.228477Z"
    }
   },
   "outputs": [
    {
     "name": "stdout",
     "output_type": "stream",
     "text": [
      "<class 'pandas.core.frame.DataFrame'>\n",
      "Int64Index: 28932 entries, 0 to 28934\n",
      "Data columns (total 9 columns):\n",
      " #   Column             Non-Null Count  Dtype \n",
      "---  ------             --------------  ----- \n",
      " 0   rating             28932 non-null  int64 \n",
      " 1   date               28932 non-null  object\n",
      " 2   title              28932 non-null  object\n",
      " 3   isEdited           28932 non-null  bool  \n",
      " 4   review             28932 non-null  object\n",
      " 5   userName           28932 non-null  object\n",
      " 6   app_name           28932 non-null  object\n",
      " 7   app_id             28932 non-null  int64 \n",
      " 8   developerResponse  4182 non-null   object\n",
      "dtypes: bool(1), int64(2), object(6)\n",
      "memory usage: 2.0+ MB\n"
     ]
    }
   ],
   "source": [
    "df.info()"
   ]
  },
  {
   "cell_type": "code",
   "execution_count": 82,
   "metadata": {
    "ExecuteTime": {
     "end_time": "2021-07-05T08:26:24.005671Z",
     "start_time": "2021-07-05T08:26:23.978722Z"
    }
   },
   "outputs": [
    {
     "data": {
      "text/html": [
       "<div>\n",
       "<style scoped>\n",
       "    .dataframe tbody tr th:only-of-type {\n",
       "        vertical-align: middle;\n",
       "    }\n",
       "\n",
       "    .dataframe tbody tr th {\n",
       "        vertical-align: top;\n",
       "    }\n",
       "\n",
       "    .dataframe thead th {\n",
       "        text-align: right;\n",
       "    }\n",
       "</style>\n",
       "<table border=\"1\" class=\"dataframe\">\n",
       "  <thead>\n",
       "    <tr style=\"text-align: right;\">\n",
       "      <th></th>\n",
       "      <th>rating</th>\n",
       "      <th>date</th>\n",
       "      <th>title</th>\n",
       "      <th>isEdited</th>\n",
       "      <th>review</th>\n",
       "      <th>userName</th>\n",
       "      <th>app_name</th>\n",
       "      <th>app_id</th>\n",
       "      <th>developerResponse</th>\n",
       "    </tr>\n",
       "  </thead>\n",
       "  <tbody>\n",
       "    <tr>\n",
       "      <th>25366</th>\n",
       "      <td>4</td>\n",
       "      <td>2021-01-24 18:03:56</td>\n",
       "      <td>Worth it, but with a flaw for me</td>\n",
       "      <td>False</td>\n",
       "      <td>I found MindDoc (previously Moodpath) when I was struggling with my mental health and wanted to track my emotions and journal my thoughts throughout the day. This app is perfect for that. \\n\\nCurrently, the free version asks you a few questions 3x a day, allows you to record your emotional state and any thoughts, and gives you a report every two weeks. \\n\\nWhat appeals to me is the streamlined nature of the app. It has additional content for those interested, but for me, the free version fufills all that I need it to.\\n\\nThe only flaw is that I had data for about 6 months before they changed the name and structure of the app, resulting in the loss of all my journal enteries. Unfortunately, they were unable to retrieve the data due to the way the app was structured before. Other than this flaw, I really enjoy this app and would recommend it to others.</td>\n",
       "      <td>Hobbit of the Shire</td>\n",
       "      <td>minddoc-your-companion</td>\n",
       "      <td>1052216403</td>\n",
       "      <td>NaN</td>\n",
       "    </tr>\n",
       "    <tr>\n",
       "      <th>25395</th>\n",
       "      <td>2</td>\n",
       "      <td>2021-01-19 21:15:26</td>\n",
       "      <td>Love app, but lost data!</td>\n",
       "      <td>False</td>\n",
       "      <td>I’ve really enjoyed using this app. It’s very streamlined, just a mood tracker and journal. Perfect!\\n\\nUnfortunately, when Moodpath switched to MindDoc, I got logged out (forgot the password) and lost my data. It won’t send me an email to reset it. I’m seeing other reviewers experiencing the same problem. I’ve already contacted the support email with my issue and still waiting on a response. \\n\\nI’ll update this review to five stars when it gets fixed because it’s worked great up till this point. Thank you!</td>\n",
       "      <td>Hobbit of the Shire</td>\n",
       "      <td>minddoc-your-companion</td>\n",
       "      <td>1052216403</td>\n",
       "      <td>{'id': 20551815, 'body': 'Hello, thank you for reaching out. We are very sorry you lost your data! We will contact you via mail as soon as we manage to bring it back. Our team is working hard to solve this inconvenient problem. Best wishes and thank you for your patience, your MindDoc team', 'modified': '2021-01-21T11:43:06Z'}</td>\n",
       "    </tr>\n",
       "  </tbody>\n",
       "</table>\n",
       "</div>"
      ],
      "text/plain": [
       "       rating                 date                             title  \\\n",
       "25366       4  2021-01-24 18:03:56  Worth it, but with a flaw for me   \n",
       "25395       2  2021-01-19 21:15:26          Love app, but lost data!   \n",
       "\n",
       "       isEdited  \\\n",
       "25366     False   \n",
       "25395     False   \n",
       "\n",
       "                                                                                                                                                                                                                                                                                                                                                                                                                                                                                                                                                                                                                                                                                                                                                                                                                                                                                               review  \\\n",
       "25366  I found MindDoc (previously Moodpath) when I was struggling with my mental health and wanted to track my emotions and journal my thoughts throughout the day. This app is perfect for that. \\n\\nCurrently, the free version asks you a few questions 3x a day, allows you to record your emotional state and any thoughts, and gives you a report every two weeks. \\n\\nWhat appeals to me is the streamlined nature of the app. It has additional content for those interested, but for me, the free version fufills all that I need it to.\\n\\nThe only flaw is that I had data for about 6 months before they changed the name and structure of the app, resulting in the loss of all my journal enteries. Unfortunately, they were unable to retrieve the data due to the way the app was structured before. Other than this flaw, I really enjoy this app and would recommend it to others.   \n",
       "25395                                                                                                                                                                                                                                                                                                                                                               I’ve really enjoyed using this app. It’s very streamlined, just a mood tracker and journal. Perfect!\\n\\nUnfortunately, when Moodpath switched to MindDoc, I got logged out (forgot the password) and lost my data. It won’t send me an email to reset it. I’m seeing other reviewers experiencing the same problem. I’ve already contacted the support email with my issue and still waiting on a response. \\n\\nI’ll update this review to five stars when it gets fixed because it’s worked great up till this point. Thank you!   \n",
       "\n",
       "                  userName                app_name      app_id  \\\n",
       "25366  Hobbit of the Shire  minddoc-your-companion  1052216403   \n",
       "25395  Hobbit of the Shire  minddoc-your-companion  1052216403   \n",
       "\n",
       "                                                                                                                                                                                                                                                                                                                              developerResponse  \n",
       "25366                                                                                                                                                                                                                                                                                                                                       NaN  \n",
       "25395  {'id': 20551815, 'body': 'Hello, thank you for reaching out. We are very sorry you lost your data! We will contact you via mail as soon as we manage to bring it back. Our team is working hard to solve this inconvenient problem. Best wishes and thank you for your patience, your MindDoc team', 'modified': '2021-01-21T11:43:06Z'}  "
      ]
     },
     "execution_count": 82,
     "metadata": {},
     "output_type": "execute_result"
    }
   ],
   "source": [
    "df[df.duplicated(['userName', 'app_name'], keep=False)]"
   ]
  },
  {
   "cell_type": "code",
   "execution_count": null,
   "metadata": {},
   "outputs": [],
   "source": []
  },
  {
   "cell_type": "code",
   "execution_count": null,
   "metadata": {},
   "outputs": [],
   "source": []
  },
  {
   "cell_type": "code",
   "execution_count": 85,
   "metadata": {
    "ExecuteTime": {
     "end_time": "2021-07-05T14:58:50.910105Z",
     "start_time": "2021-07-05T14:58:50.873230Z"
    }
   },
   "outputs": [
    {
     "ename": "NameError",
     "evalue": "name 'WordNetLemmatizer' is not defined",
     "output_type": "error",
     "traceback": [
      "\u001b[0;31m---------------------------------------------------------------------------\u001b[0m",
      "\u001b[0;31mNameError\u001b[0m                                 Traceback (most recent call last)",
      "\u001b[0;32m<ipython-input-85-c0816fb32024>\u001b[0m in \u001b[0;36m<module>\u001b[0;34m\u001b[0m\n\u001b[0;32m----> 1\u001b[0;31m \u001b[0mlemmatizer\u001b[0m \u001b[0;34m=\u001b[0m \u001b[0mWordNetLemmatizer\u001b[0m\u001b[0;34m(\u001b[0m\u001b[0;34m)\u001b[0m\u001b[0;34m\u001b[0m\u001b[0;34m\u001b[0m\u001b[0m\n\u001b[0m",
      "\u001b[0;31mNameError\u001b[0m: name 'WordNetLemmatizer' is not defined"
     ]
    }
   ],
   "source": [
    "lemmatizer = WordNetLemmatizer()"
   ]
  },
  {
   "cell_type": "code",
   "execution_count": null,
   "metadata": {},
   "outputs": [],
   "source": []
  },
  {
   "cell_type": "code",
   "execution_count": null,
   "metadata": {},
   "outputs": [],
   "source": []
  },
  {
   "cell_type": "code",
   "execution_count": null,
   "metadata": {},
   "outputs": [],
   "source": []
  },
  {
   "cell_type": "markdown",
   "metadata": {},
   "source": [
    "# SCRUB"
   ]
  },
  {
   "cell_type": "code",
   "execution_count": null,
   "metadata": {},
   "outputs": [],
   "source": []
  },
  {
   "cell_type": "markdown",
   "metadata": {},
   "source": [
    "# EXPLORE"
   ]
  },
  {
   "cell_type": "code",
   "execution_count": null,
   "metadata": {},
   "outputs": [],
   "source": []
  },
  {
   "cell_type": "markdown",
   "metadata": {},
   "source": [
    "# MODEL"
   ]
  },
  {
   "cell_type": "code",
   "execution_count": null,
   "metadata": {},
   "outputs": [],
   "source": []
  },
  {
   "cell_type": "markdown",
   "metadata": {},
   "source": [
    "# iNTERPRET"
   ]
  },
  {
   "cell_type": "code",
   "execution_count": null,
   "metadata": {},
   "outputs": [],
   "source": []
  },
  {
   "cell_type": "markdown",
   "metadata": {},
   "source": [
    "# CONCLUSIONS & RECOMMENDATIONS"
   ]
  },
  {
   "cell_type": "markdown",
   "metadata": {},
   "source": [
    "> Summarize your conclusions and bullet-point your list of recommendations, which are based on your modeling results."
   ]
  }
 ],
 "metadata": {
  "kernelspec": {
   "display_name": "learn-env",
   "language": "python",
   "name": "learn-env"
  },
  "language_info": {
   "codemirror_mode": {
    "name": "ipython",
    "version": 3
   },
   "file_extension": ".py",
   "mimetype": "text/x-python",
   "name": "python",
   "nbconvert_exporter": "python",
   "pygments_lexer": "ipython3",
   "version": "3.8.5"
  },
  "toc": {
   "base_numbering": 1,
   "nav_menu": {},
   "number_sections": false,
   "sideBar": true,
   "skip_h1_title": false,
   "title_cell": "Table of Contents",
   "title_sidebar": "Contents",
   "toc_cell": false,
   "toc_position": {},
   "toc_section_display": true,
   "toc_window_display": true
  },
  "varInspector": {
   "cols": {
    "lenName": 16,
    "lenType": 16,
    "lenVar": 40
   },
   "kernels_config": {
    "python": {
     "delete_cmd_postfix": "",
     "delete_cmd_prefix": "del ",
     "library": "var_list.py",
     "varRefreshCmd": "print(var_dic_list())"
    },
    "r": {
     "delete_cmd_postfix": ") ",
     "delete_cmd_prefix": "rm(",
     "library": "var_list.r",
     "varRefreshCmd": "cat(var_dic_list()) "
    }
   },
   "types_to_exclude": [
    "module",
    "function",
    "builtin_function_or_method",
    "instance",
    "_Feature"
   ],
   "window_display": false
  }
 },
 "nbformat": 4,
 "nbformat_minor": 2
}
