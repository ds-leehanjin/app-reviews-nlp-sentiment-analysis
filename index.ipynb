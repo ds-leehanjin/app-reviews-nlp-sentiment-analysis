{
 "cells": [
  {
   "cell_type": "markdown",
   "metadata": {},
   "source": [
    "# Data Science Project"
   ]
  },
  {
   "cell_type": "markdown",
   "metadata": {},
   "source": [
    "* Name: Author Name\n",
    "* Email:\n"
   ]
  },
  {
   "cell_type": "markdown",
   "metadata": {},
   "source": [
    "## TABLE OF CONTENTS "
   ]
  },
  {
   "cell_type": "markdown",
   "metadata": {},
   "source": [
    "\n",
    "- **[Introduction](#INTRODUCTION)<br>**\n",
    "- **[OBTAIN](#OBTAIN)**<br>\n",
    "- **[SCRUB](#SCRUB)**<br>\n",
    "- **[EXPLORE](#EXPLORE)**<br>\n",
    "- **[MODEL](#MODEL)**<br>\n",
    "- **[iNTERPRET](#iNTERPRET)**<br>\n",
    "- **[Conclusions/Recommendations](#CONCLUSIONS-&-RECOMMENDATIONS)<br>**\n",
    "___"
   ]
  },
  {
   "cell_type": "markdown",
   "metadata": {},
   "source": [
    "# INTRODUCTION"
   ]
  },
  {
   "cell_type": "markdown",
   "metadata": {},
   "source": [
    "> Explain the point of your project and what question you are trying to answer with your modeling.\n",
    "\n"
   ]
  },
  {
   "cell_type": "markdown",
   "metadata": {},
   "source": [
    "# OBTAIN"
   ]
  },
  {
   "cell_type": "code",
   "execution_count": 1,
   "metadata": {
    "ExecuteTime": {
     "end_time": "2021-07-01T08:29:02.647685Z",
     "start_time": "2021-07-01T08:29:00.925040Z"
    }
   },
   "outputs": [],
   "source": [
    "# Import standard packages\n",
    "import sys\n",
    "import pandas as pd\n",
    "import numpy as np\n",
    "import matplotlib.pyplot as plt\n",
    "import seaborn as sns\n",
    "\n",
    "%matplotlib inline\n",
    "\n",
    "# Set random seed\n",
    "np.random.seed(27)"
   ]
  },
  {
   "cell_type": "code",
   "execution_count": 2,
   "metadata": {
    "ExecuteTime": {
     "end_time": "2021-07-01T09:21:03.818430Z",
     "start_time": "2021-07-01T09:21:03.798399Z"
    }
   },
   "outputs": [],
   "source": [
    "headspace_df = pd.read_csv(\"temp_data/headspace-meditation-sleep.csv\")"
   ]
  },
  {
   "cell_type": "code",
   "execution_count": 3,
   "metadata": {
    "ExecuteTime": {
     "end_time": "2021-07-01T09:21:12.991534Z",
     "start_time": "2021-07-01T09:21:12.961580Z"
    }
   },
   "outputs": [
    {
     "data": {
      "text/html": [
       "<div>\n",
       "<style scoped>\n",
       "    .dataframe tbody tr th:only-of-type {\n",
       "        vertical-align: middle;\n",
       "    }\n",
       "\n",
       "    .dataframe tbody tr th {\n",
       "        vertical-align: top;\n",
       "    }\n",
       "\n",
       "    .dataframe thead th {\n",
       "        text-align: right;\n",
       "    }\n",
       "</style>\n",
       "<table border=\"1\" class=\"dataframe\">\n",
       "  <thead>\n",
       "    <tr style=\"text-align: right;\">\n",
       "      <th></th>\n",
       "      <th>review</th>\n",
       "      <th>userName</th>\n",
       "      <th>title</th>\n",
       "      <th>date</th>\n",
       "      <th>isEdited</th>\n",
       "      <th>rating</th>\n",
       "      <th>app_name</th>\n",
       "      <th>app_id</th>\n",
       "      <th>developerResponse</th>\n",
       "    </tr>\n",
       "  </thead>\n",
       "  <tbody>\n",
       "    <tr>\n",
       "      <th>0</th>\n",
       "      <td>It’s almost embarrassing to say this, but I ha...</td>\n",
       "      <td>Crazy Yorkie Lady</td>\n",
       "      <td>This is the BEST app by far for mindfulness</td>\n",
       "      <td>2021-02-22 18:13:54</td>\n",
       "      <td>False</td>\n",
       "      <td>5</td>\n",
       "      <td>headspace-meditation-sleep</td>\n",
       "      <td>493145008</td>\n",
       "      <td>NaN</td>\n",
       "    </tr>\n",
       "    <tr>\n",
       "      <th>1</th>\n",
       "      <td>I discovered Headspace on Netflix. My life is ...</td>\n",
       "      <td>KLC-MHFL</td>\n",
       "      <td>Facing down the rabbit hole</td>\n",
       "      <td>2021-02-12 12:42:11</td>\n",
       "      <td>False</td>\n",
       "      <td>5</td>\n",
       "      <td>headspace-meditation-sleep</td>\n",
       "      <td>493145008</td>\n",
       "      <td>NaN</td>\n",
       "    </tr>\n",
       "    <tr>\n",
       "      <th>2</th>\n",
       "      <td>You won’t regret buying a Headspace subscripti...</td>\n",
       "      <td>Ashabashley</td>\n",
       "      <td>A Bright Spot in a Dark World</td>\n",
       "      <td>2021-02-11 06:22:38</td>\n",
       "      <td>False</td>\n",
       "      <td>5</td>\n",
       "      <td>headspace-meditation-sleep</td>\n",
       "      <td>493145008</td>\n",
       "      <td>NaN</td>\n",
       "    </tr>\n",
       "    <tr>\n",
       "      <th>3</th>\n",
       "      <td>This app has given me tools to deal with const...</td>\n",
       "      <td>Kindly38</td>\n",
       "      <td>The most useful thing I’ve done in 2020</td>\n",
       "      <td>2021-01-18 17:14:21</td>\n",
       "      <td>False</td>\n",
       "      <td>5</td>\n",
       "      <td>headspace-meditation-sleep</td>\n",
       "      <td>493145008</td>\n",
       "      <td>NaN</td>\n",
       "    </tr>\n",
       "    <tr>\n",
       "      <th>4</th>\n",
       "      <td>This app has helped me so much! When I am suff...</td>\n",
       "      <td>jlhuggins</td>\n",
       "      <td>It’s a Miracle App!</td>\n",
       "      <td>2021-02-08 19:19:10</td>\n",
       "      <td>False</td>\n",
       "      <td>5</td>\n",
       "      <td>headspace-meditation-sleep</td>\n",
       "      <td>493145008</td>\n",
       "      <td>NaN</td>\n",
       "    </tr>\n",
       "    <tr>\n",
       "      <th>...</th>\n",
       "      <td>...</td>\n",
       "      <td>...</td>\n",
       "      <td>...</td>\n",
       "      <td>...</td>\n",
       "      <td>...</td>\n",
       "      <td>...</td>\n",
       "      <td>...</td>\n",
       "      <td>...</td>\n",
       "      <td>...</td>\n",
       "    </tr>\n",
       "    <tr>\n",
       "      <th>1710</th>\n",
       "      <td>Meditation came into my life during a trying t...</td>\n",
       "      <td>Hifunny</td>\n",
       "      <td>Best investment I’ve ever spent on myself!</td>\n",
       "      <td>2021-06-29 14:38:46</td>\n",
       "      <td>False</td>\n",
       "      <td>5</td>\n",
       "      <td>headspace-meditation-sleep</td>\n",
       "      <td>493145008</td>\n",
       "      <td>NaN</td>\n",
       "    </tr>\n",
       "    <tr>\n",
       "      <th>1711</th>\n",
       "      <td>I need help to walk me through the process. Th...</td>\n",
       "      <td>Super chick 180</td>\n",
       "      <td>Helpful</td>\n",
       "      <td>2021-06-29 12:51:33</td>\n",
       "      <td>False</td>\n",
       "      <td>5</td>\n",
       "      <td>headspace-meditation-sleep</td>\n",
       "      <td>493145008</td>\n",
       "      <td>NaN</td>\n",
       "    </tr>\n",
       "    <tr>\n",
       "      <th>1712</th>\n",
       "      <td>It was a nice app, it tracked your minutes and...</td>\n",
       "      <td>SnailPaws</td>\n",
       "      <td>Meh</td>\n",
       "      <td>2021-06-29 08:26:48</td>\n",
       "      <td>False</td>\n",
       "      <td>2</td>\n",
       "      <td>headspace-meditation-sleep</td>\n",
       "      <td>493145008</td>\n",
       "      <td>NaN</td>\n",
       "    </tr>\n",
       "    <tr>\n",
       "      <th>1713</th>\n",
       "      <td>I feel so good after just a few minutes in my ...</td>\n",
       "      <td>Briitles</td>\n",
       "      <td>Amazing app</td>\n",
       "      <td>2021-06-29 05:51:18</td>\n",
       "      <td>False</td>\n",
       "      <td>5</td>\n",
       "      <td>headspace-meditation-sleep</td>\n",
       "      <td>493145008</td>\n",
       "      <td>NaN</td>\n",
       "    </tr>\n",
       "    <tr>\n",
       "      <th>1714</th>\n",
       "      <td>The app is user friendly and the instructors a...</td>\n",
       "      <td>Auntie Tai</td>\n",
       "      <td>Peaceful</td>\n",
       "      <td>2021-06-29 05:16:26</td>\n",
       "      <td>False</td>\n",
       "      <td>5</td>\n",
       "      <td>headspace-meditation-sleep</td>\n",
       "      <td>493145008</td>\n",
       "      <td>NaN</td>\n",
       "    </tr>\n",
       "  </tbody>\n",
       "</table>\n",
       "<p>1715 rows × 9 columns</p>\n",
       "</div>"
      ],
      "text/plain": [
       "                                                 review           userName  \\\n",
       "0     It’s almost embarrassing to say this, but I ha...  Crazy Yorkie Lady   \n",
       "1     I discovered Headspace on Netflix. My life is ...           KLC-MHFL   \n",
       "2     You won’t regret buying a Headspace subscripti...        Ashabashley   \n",
       "3     This app has given me tools to deal with const...           Kindly38   \n",
       "4     This app has helped me so much! When I am suff...          jlhuggins   \n",
       "...                                                 ...                ...   \n",
       "1710  Meditation came into my life during a trying t...            Hifunny   \n",
       "1711  I need help to walk me through the process. Th...    Super chick 180   \n",
       "1712  It was a nice app, it tracked your minutes and...          SnailPaws   \n",
       "1713  I feel so good after just a few minutes in my ...           Briitles   \n",
       "1714  The app is user friendly and the instructors a...         Auntie Tai   \n",
       "\n",
       "                                            title                 date  \\\n",
       "0     This is the BEST app by far for mindfulness  2021-02-22 18:13:54   \n",
       "1                     Facing down the rabbit hole  2021-02-12 12:42:11   \n",
       "2                   A Bright Spot in a Dark World  2021-02-11 06:22:38   \n",
       "3         The most useful thing I’ve done in 2020  2021-01-18 17:14:21   \n",
       "4                             It’s a Miracle App!  2021-02-08 19:19:10   \n",
       "...                                           ...                  ...   \n",
       "1710   Best investment I’ve ever spent on myself!  2021-06-29 14:38:46   \n",
       "1711                                      Helpful  2021-06-29 12:51:33   \n",
       "1712                                          Meh  2021-06-29 08:26:48   \n",
       "1713                                  Amazing app  2021-06-29 05:51:18   \n",
       "1714                                     Peaceful  2021-06-29 05:16:26   \n",
       "\n",
       "      isEdited  rating                    app_name     app_id  \\\n",
       "0        False       5  headspace-meditation-sleep  493145008   \n",
       "1        False       5  headspace-meditation-sleep  493145008   \n",
       "2        False       5  headspace-meditation-sleep  493145008   \n",
       "3        False       5  headspace-meditation-sleep  493145008   \n",
       "4        False       5  headspace-meditation-sleep  493145008   \n",
       "...        ...     ...                         ...        ...   \n",
       "1710     False       5  headspace-meditation-sleep  493145008   \n",
       "1711     False       5  headspace-meditation-sleep  493145008   \n",
       "1712     False       2  headspace-meditation-sleep  493145008   \n",
       "1713     False       5  headspace-meditation-sleep  493145008   \n",
       "1714     False       5  headspace-meditation-sleep  493145008   \n",
       "\n",
       "     developerResponse  \n",
       "0                  NaN  \n",
       "1                  NaN  \n",
       "2                  NaN  \n",
       "3                  NaN  \n",
       "4                  NaN  \n",
       "...                ...  \n",
       "1710               NaN  \n",
       "1711               NaN  \n",
       "1712               NaN  \n",
       "1713               NaN  \n",
       "1714               NaN  \n",
       "\n",
       "[1715 rows x 9 columns]"
      ]
     },
     "execution_count": 3,
     "metadata": {},
     "output_type": "execute_result"
    }
   ],
   "source": [
    "headspace_df"
   ]
  },
  {
   "cell_type": "code",
   "execution_count": null,
   "metadata": {},
   "outputs": [],
   "source": []
  },
  {
   "cell_type": "code",
   "execution_count": null,
   "metadata": {},
   "outputs": [],
   "source": []
  },
  {
   "cell_type": "markdown",
   "metadata": {},
   "source": [
    "# SCRUB"
   ]
  },
  {
   "cell_type": "code",
   "execution_count": null,
   "metadata": {},
   "outputs": [],
   "source": []
  },
  {
   "cell_type": "markdown",
   "metadata": {},
   "source": [
    "# EXPLORE"
   ]
  },
  {
   "cell_type": "code",
   "execution_count": null,
   "metadata": {},
   "outputs": [],
   "source": []
  },
  {
   "cell_type": "markdown",
   "metadata": {},
   "source": [
    "# MODEL"
   ]
  },
  {
   "cell_type": "code",
   "execution_count": null,
   "metadata": {},
   "outputs": [],
   "source": []
  },
  {
   "cell_type": "markdown",
   "metadata": {},
   "source": [
    "# iNTERPRET"
   ]
  },
  {
   "cell_type": "code",
   "execution_count": null,
   "metadata": {},
   "outputs": [],
   "source": []
  },
  {
   "cell_type": "markdown",
   "metadata": {},
   "source": [
    "# CONCLUSIONS & RECOMMENDATIONS"
   ]
  },
  {
   "cell_type": "markdown",
   "metadata": {},
   "source": [
    "> Summarize your conclusions and bullet-point your list of recommendations, which are based on your modeling results."
   ]
  },
  {
   "cell_type": "markdown",
   "metadata": {},
   "source": [
    "# TO DO/FUTURE WORK"
   ]
  },
  {
   "cell_type": "markdown",
   "metadata": {},
   "source": [
    "- "
   ]
  },
  {
   "cell_type": "code",
   "execution_count": null,
   "metadata": {},
   "outputs": [],
   "source": []
  }
 ],
 "metadata": {
  "kernelspec": {
   "display_name": "learn-env",
   "language": "python",
   "name": "learn-env"
  },
  "language_info": {
   "codemirror_mode": {
    "name": "ipython",
    "version": 3
   },
   "file_extension": ".py",
   "mimetype": "text/x-python",
   "name": "python",
   "nbconvert_exporter": "python",
   "pygments_lexer": "ipython3",
   "version": "3.8.5"
  },
  "toc": {
   "base_numbering": 1,
   "nav_menu": {},
   "number_sections": false,
   "sideBar": true,
   "skip_h1_title": false,
   "title_cell": "Table of Contents",
   "title_sidebar": "Contents",
   "toc_cell": false,
   "toc_position": {},
   "toc_section_display": true,
   "toc_window_display": true
  },
  "varInspector": {
   "cols": {
    "lenName": 16,
    "lenType": 16,
    "lenVar": 40
   },
   "kernels_config": {
    "python": {
     "delete_cmd_postfix": "",
     "delete_cmd_prefix": "del ",
     "library": "var_list.py",
     "varRefreshCmd": "print(var_dic_list())"
    },
    "r": {
     "delete_cmd_postfix": ") ",
     "delete_cmd_prefix": "rm(",
     "library": "var_list.r",
     "varRefreshCmd": "cat(var_dic_list()) "
    }
   },
   "types_to_exclude": [
    "module",
    "function",
    "builtin_function_or_method",
    "instance",
    "_Feature"
   ],
   "window_display": false
  }
 },
 "nbformat": 4,
 "nbformat_minor": 2
}
